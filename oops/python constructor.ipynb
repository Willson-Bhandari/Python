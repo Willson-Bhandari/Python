{
 "cells": [
  {
   "cell_type": "markdown",
   "id": "86f3a158-d402-42ce-92a7-4e6361b7fe45",
   "metadata": {},
   "source": [
    "## python constructor"
   ]
  },
  {
   "cell_type": "code",
   "execution_count": 1,
   "id": "27babebe-5157-44fa-8f40-d652303f081e",
   "metadata": {},
   "outputs": [],
   "source": [
    "# without constructor\n",
    "class bike:\n",
    "    name = \"\"\n",
    "    gear = 0\n",
    "bike1 = bike()"
   ]
  },
  {
   "cell_type": "markdown",
   "id": "e6504b7c-e1bf-45b8-92e0-864d466ae1e2",
   "metadata": {},
   "source": [
    "#### using constructor "
   ]
  },
  {
   "cell_type": "code",
   "execution_count": 8,
   "id": "b15565bc-f3fb-4ec4-b7be-ed29f7576116",
   "metadata": {},
   "outputs": [],
   "source": [
    "# use of constructor is \n",
    "class bike:\n",
    "    # constructor\n",
    "    def __init__(self, name, gear):\n",
    "     self.name = name\n",
    "     self.gear = gear\n",
    "    \n",
    "bike1 = bike(\"motogp\", 3)\n",
    "\n"
   ]
  },
  {
   "cell_type": "code",
   "execution_count": 11,
   "id": "23f1eb01-3ef5-4a81-841e-49bdcd2cfb93",
   "metadata": {},
   "outputs": [
    {
     "name": "stdout",
     "output_type": "stream",
     "text": [
      "motogp has 3 number of gear\n"
     ]
    }
   ],
   "source": [
    "print(f\"{bike1.name} has {bike1.gear} number of gear\")"
   ]
  },
  {
   "cell_type": "markdown",
   "id": "f1dd387b-cd99-4587-b22e-0b7a49983fa3",
   "metadata": {},
   "source": [
    "## this is sometime called python initializer also"
   ]
  },
  {
   "cell_type": "markdown",
   "id": "c2a801ad-b7f0-4228-9d87-55c143e8c348",
   "metadata": {},
   "source": [
    "## defect of __init__ function"
   ]
  },
  {
   "cell_type": "code",
   "execution_count": 1,
   "id": "e3797b44-5107-43f0-86e8-e60935657377",
   "metadata": {},
   "outputs": [
    {
     "name": "stdout",
     "output_type": "stream",
     "text": [
      "<__main__.myclass object at 0x7f5a9170f3a0>\n"
     ]
    }
   ],
   "source": [
    "class myclass:\n",
    "    def __init__(self, name, age):\n",
    "        self.name = name\n",
    "        self.age = age\n",
    "person1 = myclass(\"willson\", 22)\n",
    "print(person1)"
   ]
  },
  {
   "cell_type": "markdown",
   "id": "deb4cdf4-906e-48cf-9a0d-8daaf0477f40",
   "metadata": {},
   "source": [
    "## the avobe is something incomplete but if we use \n",
    "## __str__function . the problem is sloved"
   ]
  },
  {
   "cell_type": "code",
   "execution_count": 15,
   "id": "b777f7c3-35ca-482c-8fef-98f79303af1f",
   "metadata": {},
   "outputs": [
    {
     "name": "stdout",
     "output_type": "stream",
     "text": [
      "('willson', '22')\n"
     ]
    }
   ],
   "source": [
    "class myclass:\n",
    "    def __init__(self, name, age):\n",
    "        self.name = name\n",
    "        self.age = age\n",
    "        \n",
    "    def __str__(self):\n",
    "        return f\"{str(self.name), str(self.age)}\"\n",
    "        \n",
    "person1 = myclass(\"willson\", 22)\n",
    "print(person1)"
   ]
  },
  {
   "cell_type": "markdown",
   "id": "1c4df29f-1969-41ea-9f36-06772d0ab976",
   "metadata": {},
   "source": [
    "### methods for object "
   ]
  },
  {
   "cell_type": "code",
   "execution_count": 31,
   "id": "b6b74fd3-48d1-4032-b27e-e465dfee5b6d",
   "metadata": {},
   "outputs": [
    {
     "name": "stdout",
     "output_type": "stream",
     "text": [
      "Your house is in Thamel and ownership is private\n",
      "Color of your house is green\n"
     ]
    }
   ],
   "source": [
    "class house:\n",
    "    def __init__(self, location, ownership, color1):\n",
    "         \n",
    "        self.location = location\n",
    "        self.ownership = ownership\n",
    "        self.color = color1\n",
    "\n",
    "    def house_detail(self):\n",
    "        print(f\"Your house is in {self.location} and ownership is {self.ownership}\")\n",
    "    def house_color(self):\n",
    "        print(f\"Color of your house is {self.color}\")\n",
    "\n",
    "ram = house(\"Thamel\", \"private\", \"green\")\n",
    "ram.house_detail()\n",
    "ram.house_color()\n",
    "    "
   ]
  },
  {
   "cell_type": "code",
   "execution_count": 32,
   "id": "7d5a7eac-b5c5-4a5b-b199-c4d7863a5356",
   "metadata": {},
   "outputs": [],
   "source": [
    "ram.color = \"blue\" # this is the modificatoin of color from instances "
   ]
  },
  {
   "cell_type": "code",
   "execution_count": 33,
   "id": "9606d62a-9c43-4324-b969-4414b006c738",
   "metadata": {},
   "outputs": [
    {
     "name": "stdout",
     "output_type": "stream",
     "text": [
      "Color of your house is blue\n"
     ]
    }
   ],
   "source": [
    "ram.house_color()"
   ]
  },
  {
   "cell_type": "code",
   "execution_count": 34,
   "id": "43690454-a767-405f-90c7-0993bce2d7ea",
   "metadata": {},
   "outputs": [],
   "source": [
    "del ram.location \n"
   ]
  },
  {
   "cell_type": "code",
   "execution_count": 35,
   "id": "4c3bc9b9-111d-45a6-80fe-6ca8c7c85461",
   "metadata": {},
   "outputs": [],
   "source": [
    "ram.location = \"New Baneswor\""
   ]
  },
  {
   "cell_type": "code",
   "execution_count": 36,
   "id": "0c013e43-9c9b-4aab-ac6a-dbc63d4e7c46",
   "metadata": {},
   "outputs": [
    {
     "data": {
      "text/plain": [
       "'New Baneswor'"
      ]
     },
     "execution_count": 36,
     "metadata": {},
     "output_type": "execute_result"
    }
   ],
   "source": [
    "ram.location"
   ]
  },
  {
   "cell_type": "code",
   "execution_count": 37,
   "id": "f16a47be-24ba-4c1f-8b4d-3b90a602c0c3",
   "metadata": {},
   "outputs": [
    {
     "name": "stdout",
     "output_type": "stream",
     "text": [
      "Your house is in New Baneswor and ownership is private\n"
     ]
    }
   ],
   "source": [
    "ram.house_detail()"
   ]
  },
  {
   "cell_type": "code",
   "execution_count": 42,
   "id": "108f215d-0f89-41fd-bf0c-150359e9a96b",
   "metadata": {},
   "outputs": [
    {
     "name": "stdout",
     "output_type": "stream",
     "text": [
      "Your house is in New Baneswor and ownership is private\n",
      "None\n"
     ]
    }
   ],
   "source": [
    "print(ram.house_detail()) #it gives null .sell it in output"
   ]
  },
  {
   "cell_type": "markdown",
   "id": "8e8835d6-a097-4f9f-a1da-19d47198fe43",
   "metadata": {},
   "source": [
    "## deleting the object"
   ]
  },
  {
   "cell_type": "code",
   "execution_count": 43,
   "id": "acbcc8ea-299a-4950-b575-71b2773dba07",
   "metadata": {},
   "outputs": [],
   "source": [
    "del ram"
   ]
  },
  {
   "cell_type": "markdown",
   "id": "56dfce52-36ab-4522-95e1-c54b9abda193",
   "metadata": {},
   "source": [
    "# note deleting the object now doesn't have any argunments so it doesn't give any thing "
   ]
  },
  {
   "cell_type": "code",
   "execution_count": 44,
   "id": "24ac9827-d131-40eb-8031-0c583a43d414",
   "metadata": {},
   "outputs": [
    {
     "ename": "NameError",
     "evalue": "name 'ram' is not defined",
     "output_type": "error",
     "traceback": [
      "\u001b[0;31m---------------------------------------------------------------------------\u001b[0m",
      "\u001b[0;31mNameError\u001b[0m                                 Traceback (most recent call last)",
      "Cell \u001b[0;32mIn[44], line 1\u001b[0m\n\u001b[0;32m----> 1\u001b[0m \u001b[43mram\u001b[49m\u001b[38;5;241m.\u001b[39mlocation\n",
      "\u001b[0;31mNameError\u001b[0m: name 'ram' is not defined"
     ]
    }
   ],
   "source": [
    "ram.location"
   ]
  },
  {
   "cell_type": "code",
   "execution_count": null,
   "id": "fff4e35b-bde2-477b-b214-5f2b01048fbe",
   "metadata": {},
   "outputs": [],
   "source": []
  }
 ],
 "metadata": {
  "kernelspec": {
   "display_name": "Python 3 (ipykernel)",
   "language": "python",
   "name": "python3"
  },
  "language_info": {
   "codemirror_mode": {
    "name": "ipython",
    "version": 3
   },
   "file_extension": ".py",
   "mimetype": "text/x-python",
   "name": "python",
   "nbconvert_exporter": "python",
   "pygments_lexer": "ipython3",
   "version": "3.10.12"
  }
 },
 "nbformat": 4,
 "nbformat_minor": 5
}
