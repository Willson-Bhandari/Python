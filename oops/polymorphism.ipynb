{
 "cells": [
  {
   "cell_type": "markdown",
   "id": "c8cb0dae-1f12-44ec-a7c8-5c4ab3e446da",
   "metadata": {},
   "source": [
    "# polymorphism"
   ]
  },
  {
   "cell_type": "markdown",
   "id": "d960f959-1682-4107-b3c0-827af3ad72cf",
   "metadata": {},
   "source": [
    "## Polymorphism with a Function and objects: "
   ]
  },
  {
   "cell_type": "code",
   "execution_count": null,
   "id": "2165da44-02a8-438e-847c-8a6d0498f480",
   "metadata": {},
   "outputs": [],
   "source": []
  }
 ],
 "metadata": {
  "kernelspec": {
   "display_name": "Python 3 (ipykernel)",
   "language": "python",
   "name": "python3"
  },
  "language_info": {
   "codemirror_mode": {
    "name": "ipython",
    "version": 3
   },
   "file_extension": ".py",
   "mimetype": "text/x-python",
   "name": "python",
   "nbconvert_exporter": "python",
   "pygments_lexer": "ipython3",
   "version": "3.10.12"
  }
 },
 "nbformat": 4,
 "nbformat_minor": 5
}
