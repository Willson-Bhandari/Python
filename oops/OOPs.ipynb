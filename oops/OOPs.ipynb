{
 "cells": [
  {
   "cell_type": "markdown",
   "id": "4a0418f3-aaa8-483c-974a-b1226618fe90",
   "metadata": {},
   "source": [
    "# OOps concepts and defining\n"
   ]
  },
  {
   "cell_type": "code",
   "execution_count": 2,
   "id": "f6a94537-1e7f-4463-87ae-553dd7e97456",
   "metadata": {},
   "outputs": [
    {
     "name": "stdout",
     "output_type": "stream",
     "text": [
      "blue is 2 years old\n",
      "swee is 10 years old\n"
     ]
    }
   ],
   "source": [
    "class parrot:\n",
    "    #class attribute -- varibale of class . \n",
    "    name = \"\"\n",
    "    age = 0\n",
    "#creating parrot1 object/ instances\n",
    "parrot1 = parrot()\n",
    "parrot1.name = \"blue\"\n",
    "parrot1.age = 2\n",
    "#creating another parrot2 instance\n",
    "parrot2 = parrot()\n",
    "parrot2.name = \"swee\"\n",
    "parrot2.age = 10\n",
    "#accessing attributes\n",
    "print(f\"{parrot1.name} is {parrot1.age} years old\")\n",
    "print(f\"{parrot2.name} is {parrot2.age} years old\")"
   ]
  },
  {
   "cell_type": "markdown",
   "id": "04546428-78bb-47b1-b0fa-d2c3a2b15b77",
   "metadata": {},
   "source": [
    "## creating class and creating variables"
   ]
  },
  {
   "cell_type": "code",
   "execution_count": 3,
   "id": "9e50a8a5-021e-483d-8aa4-76ba52849b38",
   "metadata": {},
   "outputs": [],
   "source": [
    "class bike:\n",
    "    name = \"\"\n",
    "    gear = 0\n",
    "bike1 = bike()"
   ]
  },
  {
   "cell_type": "code",
   "execution_count": 13,
   "id": "dc2b36e1-acff-44fb-88e4-e7a2afb95e80",
   "metadata": {},
   "outputs": [],
   "source": [
    "bike1.name = \"moto\"\n",
    "bike1.gear   = 2"
   ]
  },
  {
   "cell_type": "code",
   "execution_count": 16,
   "id": "506ec7a1-0c9d-4120-b115-c27174884233",
   "metadata": {},
   "outputs": [
    {
     "name": "stdout",
     "output_type": "stream",
     "text": [
      " Name: moto and It's gear is 2\n"
     ]
    }
   ],
   "source": [
    "print(f\" Name: {bike1.name} and It's gear is {bike1.gear}\")"
   ]
  },
  {
   "cell_type": "markdown",
   "id": "083a3951-8aab-48f7-844e-2e13dc234301",
   "metadata": {},
   "source": [
    "## Creating multiple object of python class"
   ]
  },
  {
   "cell_type": "code",
   "execution_count": 18,
   "id": "82f6ffe1-850c-4100-8be0-df84035b71c0",
   "metadata": {},
   "outputs": [
    {
     "name": "stdout",
     "output_type": "stream",
     "text": [
      "First employee ID is 2001\n",
      "Second employee ID is 2002\n"
     ]
    }
   ],
   "source": [
    "class employee:\n",
    "    employee_id = 0\n",
    "# creating two objects\n",
    "employee1 = employee()\n",
    "employee2 = employee()\n",
    "#modifying emplyee id from the following code\n",
    "employee1.employee_id = 2001\n",
    "employee2.employee_id = 2002\n",
    "\n",
    "print(f\"First employee ID is {employee1.employee_id}\")\n",
    "print(f\"Second employee ID is {employee2.employee_id}\")"
   ]
  },
  {
   "cell_type": "markdown",
   "id": "4f764c23-ab96-4607-8e92-76ffac9d6312",
   "metadata": {},
   "source": [
    "## Python methods"
   ]
  },
  {
   "cell_type": "code",
   "execution_count": 19,
   "id": "99289b12-4082-4827-82de-62d841a2383b",
   "metadata": {},
   "outputs": [],
   "source": [
    "class room:\n",
    "    length = 0\n",
    "    breadth = 0\n",
    "\n",
    "    def calculate_area(self):\n",
    "        print(\"Area of room is\", self.length*self.breadth)"
   ]
  },
  {
   "cell_type": "code",
   "execution_count": 20,
   "id": "52711c91-eac5-430f-9048-b0b2f0df2e97",
   "metadata": {},
   "outputs": [],
   "source": [
    "hall = room()"
   ]
  },
  {
   "cell_type": "code",
   "execution_count": 22,
   "id": "6299d1bb-9513-4411-9584-e010db541466",
   "metadata": {},
   "outputs": [
    {
     "name": "stdout",
     "output_type": "stream",
     "text": [
      "Area of room is 20\n"
     ]
    }
   ],
   "source": [
    "hall.length = 5\n",
    "hall.breadth = 4\n",
    "hall.calculate_area()"
   ]
  },
  {
   "cell_type": "code",
   "execution_count": 24,
   "id": "f0da2b6d-af7b-4cb7-8371-53c50ac88ece",
   "metadata": {},
   "outputs": [
    {
     "data": {
      "text/plain": [
       "5"
      ]
     },
     "execution_count": 24,
     "metadata": {},
     "output_type": "execute_result"
    }
   ],
   "source": []
  },
  {
   "cell_type": "code",
   "execution_count": 2,
   "id": "bb960c48-38c7-47f6-84c6-198fa474b04b",
   "metadata": {},
   "outputs": [
    {
     "ename": "TypeError",
     "evalue": "iter(v, w): v must be callable",
     "output_type": "error",
     "traceback": [
      "\u001b[0;31m---------------------------------------------------------------------------\u001b[0m",
      "\u001b[0;31mTypeError\u001b[0m                                 Traceback (most recent call last)",
      "Cell \u001b[0;32mIn[2], line 2\u001b[0m\n\u001b[1;32m      1\u001b[0m s \u001b[38;5;241m=\u001b[39m [ \u001b[38;5;241m2\u001b[39m,\u001b[38;5;241m3\u001b[39m,\u001b[38;5;241m3\u001b[39m,\u001b[38;5;241m4\u001b[39m,\u001b[38;5;241m5\u001b[39m,\u001b[38;5;241m44\u001b[39m,\u001b[38;5;124m\"\u001b[39m\u001b[38;5;124ma\u001b[39m\u001b[38;5;124m\"\u001b[39m]\n\u001b[0;32m----> 2\u001b[0m mlist \u001b[38;5;241m=\u001b[39m \u001b[38;5;28;43miter\u001b[39;49m\u001b[43m(\u001b[49m\u001b[43ms\u001b[49m\u001b[43m,\u001b[49m\u001b[43m \u001b[49m\u001b[38;5;241;43m4\u001b[39;49m\u001b[43m)\u001b[49m\n\u001b[1;32m      3\u001b[0m \u001b[38;5;28mprint\u001b[39m(\u001b[38;5;28mnext\u001b[39m(mylist))\n",
      "\u001b[0;31mTypeError\u001b[0m: iter(v, w): v must be callable"
     ]
    }
   ],
   "source": [
    "s = [ 2,3,3,4,5,44,\"a\"]\n",
    "mlist = iter(s, 4)\n",
    "print(next(mylist))"
   ]
  },
  {
   "cell_type": "code",
   "execution_count": null,
   "id": "635f6b77-cb83-46ee-bfbe-2f525764710e",
   "metadata": {},
   "outputs": [],
   "source": []
  }
 ],
 "metadata": {
  "kernelspec": {
   "display_name": "Python 3 (ipykernel)",
   "language": "python",
   "name": "python3"
  },
  "language_info": {
   "codemirror_mode": {
    "name": "ipython",
    "version": 3
   },
   "file_extension": ".py",
   "mimetype": "text/x-python",
   "name": "python",
   "nbconvert_exporter": "python",
   "pygments_lexer": "ipython3",
   "version": "3.10.12"
  }
 },
 "nbformat": 4,
 "nbformat_minor": 5
}
