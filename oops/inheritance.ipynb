{
 "cells": [
  {
   "cell_type": "markdown",
   "id": "a646c88d-2128-4033-9d9a-4a67f1621e94",
   "metadata": {},
   "source": [
    "### python inheritance from w3school"
   ]
  },
  {
   "cell_type": "code",
   "execution_count": 8,
   "id": "74c93e0c-017f-4165-9334-82b8bd2aa043",
   "metadata": {},
   "outputs": [],
   "source": [
    "class Person:\n",
    "    def __init__(self, fname , lname):\n",
    "      self.firstname = fname\n",
    "      self.lastname = lname\n",
    "\n",
    "    def printname(self):\n",
    "        \n",
    "        return f\" Your full name is {self.firstname } {self.lastname}\" # here is no space between two brackets \n"
   ]
  },
  {
   "cell_type": "code",
   "execution_count": 9,
   "id": "b90b6322-976b-45d9-b47a-0c0de3230802",
   "metadata": {},
   "outputs": [
    {
     "data": {
      "text/plain": [
       "' Your full name is Manoj Nepal'"
      ]
     },
     "execution_count": 9,
     "metadata": {},
     "output_type": "execute_result"
    }
   ],
   "source": [
    "person1  = Person(\"Manoj\", \"Nepal\")\n",
    "person1.printname()"
   ]
  },
  {
   "cell_type": "markdown",
   "id": "a59355c9-ea28-46b1-93d8-236dd340354b",
   "metadata": {},
   "source": [
    "## creating class child"
   ]
  },
  {
   "cell_type": "markdown",
   "id": "b1d1a7d1-1001-4b7f-a491-70d7b3d0537d",
   "metadata": {},
   "source": [
    "### extra note: function (arg): function always have argunment and parameter is passed in this function when fucntion is called . "
   ]
  },
  {
   "cell_type": "code",
   "execution_count": 10,
   "id": "65fc43ec-7ade-4bc9-8868-324ce53e36bd",
   "metadata": {},
   "outputs": [],
   "source": [
    "class student(Person):\n",
    "    # here student is new class which take parameter as Person class from previous class\n",
    "    pass"
   ]
  },
  {
   "cell_type": "code",
   "execution_count": 11,
   "id": "da66c8e9-18ea-440c-b991-9fa5ad4b5afb",
   "metadata": {},
   "outputs": [
    {
     "data": {
      "text/plain": [
       "' Your full name is hari neerajan'"
      ]
     },
     "execution_count": 11,
     "metadata": {},
     "output_type": "execute_result"
    }
   ],
   "source": [
    "student1 = student(\"hari\", \"neerajan\")\n",
    "student1.printname()"
   ]
  },
  {
   "cell_type": "code",
   "execution_count": 12,
   "id": "efd0c853-1421-4260-8354-5f98312db1d9",
   "metadata": {},
   "outputs": [],
   "source": [
    "class student1(Person):\n",
    "    def __init__(self, fname_s, lname_s, age): # this line override the __init__ funcion \n",
    "        self.firstname = fname_s          # if it doesn't then there is 2 parameter\n",
    "                                           # but here is 3 parameter and has to show error\n",
    "        self.lastname = lname_s\n",
    "        self.age = 0\n",
    "\n",
    "    "
   ]
  },
  {
   "cell_type": "code",
   "execution_count": 46,
   "id": "e002a279-5d96-4b5b-98fb-e6314b709b04",
   "metadata": {},
   "outputs": [
    {
     "data": {
      "text/plain": [
       "'Ram'"
      ]
     },
     "execution_count": 46,
     "metadata": {},
     "output_type": "execute_result"
    }
   ],
   "source": [
    "student_ram = student1(\"Ram\", \"Bastola\" ,23)\n",
    "student_ram.firstname"
   ]
  },
  {
   "cell_type": "markdown",
   "id": "67a8774d-a7a2-4b13-80a4-d524870cb494",
   "metadata": {},
   "source": [
    "## here it doesn't inherits the property of Person class"
   ]
  },
  {
   "cell_type": "code",
   "execution_count": 29,
   "id": "ca28c453-93ee-4c6c-9f29-f0751e719e75",
   "metadata": {},
   "outputs": [
    {
     "ename": "TypeError",
     "evalue": "test1.__init__() takes 3 positional arguments but 4 were given",
     "output_type": "error",
     "traceback": [
      "\u001b[0;31m---------------------------------------------------------------------------\u001b[0m",
      "\u001b[0;31mTypeError\u001b[0m                                 Traceback (most recent call last)",
      "Cell \u001b[0;32mIn[29], line 12\u001b[0m\n\u001b[1;32m     10\u001b[0m         \u001b[38;5;28;01mdef\u001b[39;00m \u001b[38;5;21m__init\u001b[39m(\u001b[38;5;28mself\u001b[39m, fname, age,location):\n\u001b[1;32m     11\u001b[0m             test1\u001b[38;5;241m.\u001b[39m\u001b[38;5;21m__init__\u001b[39m(\u001b[38;5;28mself\u001b[39m, name, age)\n\u001b[0;32m---> 12\u001b[0m x \u001b[38;5;241m=\u001b[39m \u001b[43mchild1\u001b[49m\u001b[43m(\u001b[49m\u001b[38;5;124;43m\"\u001b[39;49m\u001b[38;5;124;43mWillsonBhandari\u001b[39;49m\u001b[38;5;124;43m\"\u001b[39;49m\u001b[43m,\u001b[49m\u001b[43m \u001b[49m\u001b[38;5;241;43m23\u001b[39;49m\u001b[43m,\u001b[49m\u001b[43m \u001b[49m\u001b[38;5;124;43m\"\u001b[39;49m\u001b[38;5;124;43mthamel\u001b[39;49m\u001b[38;5;124;43m\"\u001b[39;49m\u001b[43m)\u001b[49m\n\u001b[1;32m     13\u001b[0m x\u001b[38;5;241m.\u001b[39mprintname()\n",
      "\u001b[0;31mTypeError\u001b[0m: test1.__init__() takes 3 positional arguments but 4 were given"
     ]
    }
   ],
   "source": [
    "class test1:\n",
    "    def __init__(self, name, age):\n",
    "        self.name = name\n",
    "        self.age = age\n",
    "\n",
    "    def printname(self):\n",
    "        print(self.name, self.age)\n",
    "\n",
    "class child1(test1):\n",
    "        def __init(self, fname, age,location):\n",
    "            test1.__init__(self, name, age)\n",
    "\n",
    "# argunment should match . both child and parent\n",
    "x = child1(\"WillsonBhandari\", 23, \"thamel\")\n",
    "x.printname()\n",
    "            "
   ]
  },
  {
   "cell_type": "markdown",
   "id": "44f5f4a6-7fd3-4039-ae90-6bf7557725f7",
   "metadata": {},
   "source": [
    "# here is the solution of above code"
   ]
  },
  {
   "cell_type": "code",
   "execution_count": 39,
   "id": "e19c0b7f-f864-45b8-9121-c1578e991bbd",
   "metadata": {},
   "outputs": [
    {
     "name": "stdout",
     "output_type": "stream",
     "text": [
      "WillsonBhandari 23\n"
     ]
    }
   ],
   "source": [
    "class test1:\n",
    "    def __init__(self, name, age, location):\n",
    "        self.name = name\n",
    "        self.age = age\n",
    "\n",
    "    def printname(self):\n",
    "        print(self.name, self.age)\n",
    "\n",
    "class child1(test1):\n",
    "        def __init(self, age, name,location):\n",
    "            test1.__init__(self, name, age,location)\n",
    "\n",
    "# argunment should match . both child and parent\n",
    "x = child1(\"WillsonBhandari\", 23, \"thamel\")\n",
    "x.printname()\n",
    "            "
   ]
  },
  {
   "cell_type": "markdown",
   "id": "00584ce8-9e0b-480c-8fd4-37c56fcde5cf",
   "metadata": {},
   "source": [
    "### use of super() function"
   ]
  },
  {
   "cell_type": "code",
   "execution_count": 45,
   "id": "7cfdb81e-8df3-40a0-a93e-840afb4ef677",
   "metadata": {},
   "outputs": [
    {
     "name": "stdout",
     "output_type": "stream",
     "text": [
      " name:2 age :luci\n"
     ]
    },
    {
     "data": {
      "text/plain": [
       "' breed: eskimo dog'"
      ]
     },
     "execution_count": 45,
     "metadata": {},
     "output_type": "execute_result"
    }
   ],
   "source": [
    "class dog:\n",
    "    def __init__(self, name, age, breed):\n",
    "        self.name = name\n",
    "        self.age = age\n",
    "        self.breed = breed\n",
    "\n",
    "    def dog_method1(self):\n",
    "        return f\" name:{self.name} age :{self.age}\"\n",
    "    def dog_method2(self):\n",
    "        return f\" breed: {self.breed}\"\n",
    "\n",
    "class child1(dog):\n",
    "    def __init(self, name, age, breed):\n",
    "        super().__init__(name, age, breed)\n",
    "\n",
    "obj1 = child1(2,\"luci\" , \"eskimo dog\")\n",
    "print(obj1.dog_method1())\n",
    "obj1.dog_method2()\n",
    "\n",
    "## this is multi line comment\n",
    "# here what has happened . python doesn't support varible name in this case ie variable name\n",
    "# of child  and parent is same even though it doesn't understood it and printed 2 as name \n"
   ]
  },
  {
   "cell_type": "code",
   "execution_count": 47,
   "id": "b767eff9-90bc-4312-bae3-706235e743ad",
   "metadata": {},
   "outputs": [
    {
     "data": {
      "text/plain": [
       "' name:luci age :2'"
      ]
     },
     "execution_count": 47,
     "metadata": {},
     "output_type": "execute_result"
    }
   ],
   "source": [
    "obj2 = child1(\"luci\", 2, \"eskimo\") # here is the correct form \n",
    "obj2.dog_method1()"
   ]
  },
  {
   "cell_type": "code",
   "execution_count": 90,
   "id": "742c44e8-d7e5-4426-9b5a-f495959cabb2",
   "metadata": {},
   "outputs": [],
   "source": [
    "class animal:\n",
    "    def __init__(self, name, age, breed):\n",
    "        self.name = name\n",
    "        self.age = age\n",
    "        self.breed = breed\n",
    "    def name_age(self):\n",
    "        return f\" {self.name}, {self.age}\"\n",
    "    def breed_(self):\n",
    "        return f\"{self.breed},{self.age}\"\n",
    "class cat(animal):\n",
    "    def __init__(self, name, age, breed):\n",
    "        super().__init__(name, age, breed)\n",
    "class dog(animal):\n",
    "    def __init__(self, name, age, breed, condition):\n",
    "        super().__init__(name,age, breed)\n",
    "        self.condition = condition"
   ]
  },
  {
   "cell_type": "code",
   "execution_count": 92,
   "id": "295df38b-5ecb-47e7-998a-2a4d10ec7860",
   "metadata": {},
   "outputs": [
    {
     "name": "stdout",
     "output_type": "stream",
     "text": [
      " luci, 2\n",
      "eskimo,3\n"
     ]
    },
    {
     "data": {
      "text/plain": [
       "'alive'"
      ]
     },
     "execution_count": 92,
     "metadata": {},
     "output_type": "execute_result"
    }
   ],
   "source": [
    "cat1 = cat(\"luci\", 2, \"shorthair\")\n",
    "dog1 = dog(\"teddy\", 3, \"eskimo\", \"alive\")\n",
    "print(cat1.name_age())\n",
    "print(dog1.breed_())\n",
    "dog1.condition"
   ]
  },
  {
   "cell_type": "markdown",
   "id": "8a64fb11-5aa7-453c-8fbb-9694613b621e",
   "metadata": {},
   "source": [
    "## see the difference"
   ]
  },
  {
   "cell_type": "code",
   "execution_count": 93,
   "id": "ba7d20a7-7817-46d5-917b-e614531d5cb8",
   "metadata": {},
   "outputs": [],
   "source": [
    "class animal:\n",
    "    def __init__(self, name, age, breed):\n",
    "        self.name = name\n",
    "        self.age = age\n",
    "        self.breed = breed\n",
    "    def name_age(self):\n",
    "        return f\" {self.name}, {self.age}\"\n",
    "    def breed(self):# this is string object \n",
    "        return f\"{self.breed},{self.age}\"\n",
    "class cat(animal):\n",
    "    def __init__(self, name, age, breed):\n",
    "        super().__init__(name, age, breed)\n",
    "class dog(animal):\n",
    "    def __init__(self, name, age, breed, condition):\n",
    "        super().__init__(name,age, breed)\n",
    "        self.condition = condition"
   ]
  },
  {
   "cell_type": "code",
   "execution_count": 95,
   "id": "5cfde4b0-7064-4c31-8991-bd8dda9f04f7",
   "metadata": {},
   "outputs": [
    {
     "name": "stdout",
     "output_type": "stream",
     "text": [
      " luci, 2\n"
     ]
    },
    {
     "ename": "TypeError",
     "evalue": "'str' object is not callable",
     "output_type": "error",
     "traceback": [
      "\u001b[0;31m---------------------------------------------------------------------------\u001b[0m",
      "\u001b[0;31mTypeError\u001b[0m                                 Traceback (most recent call last)",
      "Cell \u001b[0;32mIn[95], line 4\u001b[0m\n\u001b[1;32m      2\u001b[0m dog1 \u001b[38;5;241m=\u001b[39m dog(\u001b[38;5;124m\"\u001b[39m\u001b[38;5;124mteddy\u001b[39m\u001b[38;5;124m\"\u001b[39m, \u001b[38;5;241m3\u001b[39m, \u001b[38;5;124m\"\u001b[39m\u001b[38;5;124meskimo\u001b[39m\u001b[38;5;124m\"\u001b[39m, \u001b[38;5;124m\"\u001b[39m\u001b[38;5;124malive\u001b[39m\u001b[38;5;124m\"\u001b[39m)\n\u001b[1;32m      3\u001b[0m \u001b[38;5;28mprint\u001b[39m(cat1\u001b[38;5;241m.\u001b[39mname_age())\n\u001b[0;32m----> 4\u001b[0m \u001b[38;5;28mprint\u001b[39m(\u001b[43mdog1\u001b[49m\u001b[38;5;241;43m.\u001b[39;49m\u001b[43mbreed\u001b[49m\u001b[43m(\u001b[49m\u001b[43m)\u001b[49m)\n\u001b[1;32m      5\u001b[0m dog1\u001b[38;5;241m.\u001b[39mcondition\n",
      "\u001b[0;31mTypeError\u001b[0m: 'str' object is not callable"
     ]
    }
   ],
   "source": [
    "cat1 = cat(\"luci\", 2, \"shorthair\")\n",
    "dog1 = dog(\"teddy\", 3, \"eskimo\", \"alive\")\n",
    "print(cat1.name_age())\n",
    "print(dog1.breed()) #this is string object calling \n",
    "dog1.condition"
   ]
  },
  {
   "cell_type": "markdown",
   "id": "74cf42e9-2526-47fd-92c1-bbe231aca750",
   "metadata": {},
   "source": [
    "### see the difference in calling of breed\n",
    "use remove () and it give output only of fist value not all . the method is string type so "
   ]
  },
  {
   "cell_type": "code",
   "execution_count": 97,
   "id": "21bbab16-1458-4325-b4e1-f6fe914b1c04",
   "metadata": {},
   "outputs": [],
   "source": [
    "class animal:\n",
    "    def __init__(self, name, age, breed):\n",
    "        self.name = name\n",
    "        self.age = age\n",
    "        self.breed = breed\n",
    "    def name_age(self):\n",
    "        return f\" {self.name}, {self.age}\"\n",
    "    def breed(self):# this is string object \n",
    "        return f\"{self.breed},{self.age}\"\n",
    "class cat(animal):\n",
    "    def __init__(self, name, age, breed):\n",
    "        super().__init__(name, age, breed)\n",
    "class dog(animal):\n",
    "    def __init__(self, name, age, breed, condition):\n",
    "        super().__init__(name,age, breed)\n",
    "        self.condition = condition"
   ]
  },
  {
   "cell_type": "code",
   "execution_count": 96,
   "id": "9ffaf2d6-bdd0-40b2-98ab-0b69ff3c7cf3",
   "metadata": {},
   "outputs": [
    {
     "name": "stdout",
     "output_type": "stream",
     "text": [
      " luci, 2\n",
      "eskimo\n"
     ]
    },
    {
     "data": {
      "text/plain": [
       "'alive'"
      ]
     },
     "execution_count": 96,
     "metadata": {},
     "output_type": "execute_result"
    }
   ],
   "source": [
    "cat1 = cat(\"luci\", 2, \"shorthair\")\n",
    "dog1 = dog(\"teddy\", 3, \"eskimo\", \"alive\")\n",
    "print(cat1.name_age())\n",
    "print(dog1.breed) # removing () from this line #this is string object calling \n",
    "dog1.condition"
   ]
  },
  {
   "cell_type": "markdown",
   "id": "8d5ebfae-f56f-4bf3-9f45-cbeca7ad884f",
   "metadata": {},
   "source": [
    "### finding why we don't use super() function"
   ]
  },
  {
   "cell_type": "code",
   "execution_count": 102,
   "id": "3b72271a-d631-4ece-825b-ccce825a0a6d",
   "metadata": {},
   "outputs": [],
   "source": [
    "class animal:\n",
    "    def __init__(self, name, age, breed):\n",
    "        self.name = name\n",
    "        self.age = age\n",
    "        self.breed = breed\n",
    "    def name_age(self):\n",
    "        return f\" {self.name}, {self.age}\"\n",
    "    def breed(self):# this is string object \n",
    "        return f\"{self.breed},{self.age}\"\n",
    "class cat(animal):\n",
    "     pass\n",
    "class dog(animal):\n",
    "\n",
    "     pass"
   ]
  },
  {
   "cell_type": "code",
   "execution_count": 103,
   "id": "5adb9c4f-e061-4e64-beea-bbd6eab080e7",
   "metadata": {},
   "outputs": [
    {
     "ename": "TypeError",
     "evalue": "animal.__init__() takes 4 positional arguments but 5 were given",
     "output_type": "error",
     "traceback": [
      "\u001b[0;31m---------------------------------------------------------------------------\u001b[0m",
      "\u001b[0;31mTypeError\u001b[0m                                 Traceback (most recent call last)",
      "Cell \u001b[0;32mIn[103], line 2\u001b[0m\n\u001b[1;32m      1\u001b[0m cat1 \u001b[38;5;241m=\u001b[39m cat(\u001b[38;5;124m\"\u001b[39m\u001b[38;5;124mluci\u001b[39m\u001b[38;5;124m\"\u001b[39m, \u001b[38;5;241m2\u001b[39m, \u001b[38;5;124m\"\u001b[39m\u001b[38;5;124mshorthair\u001b[39m\u001b[38;5;124m\"\u001b[39m)\n\u001b[0;32m----> 2\u001b[0m dog1 \u001b[38;5;241m=\u001b[39m \u001b[43mdog\u001b[49m\u001b[43m(\u001b[49m\u001b[38;5;124;43m\"\u001b[39;49m\u001b[38;5;124;43mteddy\u001b[39;49m\u001b[38;5;124;43m\"\u001b[39;49m\u001b[43m,\u001b[49m\u001b[43m \u001b[49m\u001b[38;5;241;43m3\u001b[39;49m\u001b[43m,\u001b[49m\u001b[43m \u001b[49m\u001b[38;5;124;43m\"\u001b[39;49m\u001b[38;5;124;43meskimo\u001b[39;49m\u001b[38;5;124;43m\"\u001b[39;49m\u001b[43m,\u001b[49m\u001b[43m \u001b[49m\u001b[38;5;124;43m\"\u001b[39;49m\u001b[38;5;124;43malive\u001b[39;49m\u001b[38;5;124;43m\"\u001b[39;49m\u001b[43m)\u001b[49m\n\u001b[1;32m      3\u001b[0m \u001b[38;5;28mprint\u001b[39m(cat1\u001b[38;5;241m.\u001b[39mname_age())\n\u001b[1;32m      4\u001b[0m \u001b[38;5;28mprint\u001b[39m(dog1\u001b[38;5;241m.\u001b[39mbreed) \u001b[38;5;66;03m# removing () from this line #this is string object calling \u001b[39;00m\n",
      "\u001b[0;31mTypeError\u001b[0m: animal.__init__() takes 4 positional arguments but 5 were given"
     ]
    }
   ],
   "source": [
    "cat1 = cat(\"luci\", 2, \"shorthair\")\n",
    "dog1 = dog(\"teddy\", 3, \"eskimo\", \"alive\")\n",
    "print(cat1.name_age())\n",
    "print(dog1.breed) # removing () from this line #this is string object calling \n",
    "dog1.condition"
   ]
  },
  {
   "cell_type": "markdown",
   "id": "1b6bcbb4-a10e-48c7-b37c-ab622a1917f0",
   "metadata": {},
   "source": [
    "### Adding method in child class"
   ]
  },
  {
   "cell_type": "code",
   "execution_count": 105,
   "id": "b869e8a5-4256-492b-9bc6-8617bb8e4eec",
   "metadata": {},
   "outputs": [
    {
     "name": "stdout",
     "output_type": "stream",
     "text": [
      "Welcome katrina caif to the class of 2023\n"
     ]
    }
   ],
   "source": [
    "class Person:\n",
    "  def __init__(self, fname, lname):\n",
    "    self.firstname = fname\n",
    "    self.lastname = lname\n",
    "\n",
    "  def printname(self):\n",
    "    print(self.firstname, self.lastname)\n",
    "\n",
    "class Student(Person):\n",
    "  def __init__(self, fname, lname, year):\n",
    "    super().__init__(fname, lname)\n",
    "    self.graduationyear = year\n",
    "\n",
    "  def welcome(self):\n",
    "    print(\"Welcome\", self.firstname, self.lastname, \"to the class of\", self.graduationyear)\n",
    "\n",
    "x = Student(\"katrina\", \"caif\", 2023)\n",
    "x.welcome()"
   ]
  },
  {
   "cell_type": "markdown",
   "id": "e513628d-3ab2-44aa-a55a-af83dfed39ed",
   "metadata": {},
   "source": [
    "## multiple inheritance "
   ]
  },
  {
   "cell_type": "code",
   "execution_count": 106,
   "id": "3969e70f-0e28-46d7-a7e4-40fa6262f59c",
   "metadata": {},
   "outputs": [],
   "source": [
    "class class1:\n",
    "    pass"
   ]
  },
  {
   "cell_type": "code",
   "execution_count": 107,
   "id": "155cb73e-42bd-406d-8fdc-5b7ea10bf551",
   "metadata": {},
   "outputs": [],
   "source": [
    "class class2(class1):\n",
    "    pass"
   ]
  },
  {
   "cell_type": "code",
   "execution_count": 108,
   "id": "d67f07ed-cea4-4208-9db7-a219a988bf09",
   "metadata": {},
   "outputs": [],
   "source": [
    "class class3(class2):\n",
    "    pass"
   ]
  },
  {
   "cell_type": "markdown",
   "id": "82ccea05-3b3d-480a-9401-509af4c31323",
   "metadata": {},
   "source": [
    "## oor"
   ]
  },
  {
   "cell_type": "code",
   "execution_count": 111,
   "id": "618f71a1-3e23-4ad5-885c-4dda1cad9c4a",
   "metadata": {},
   "outputs": [],
   "source": [
    "class class1:\n",
    "    pass\n",
    "class class2:\n",
    "    pass\n",
    "class class3(class1,class2):\n",
    "    pass\n",
    "    "
   ]
  },
  {
   "cell_type": "code",
   "execution_count": null,
   "id": "76c48e0f-568e-4c59-8a51-01ef9d336fba",
   "metadata": {},
   "outputs": [],
   "source": [
    "x = class3()\n"
   ]
  }
 ],
 "metadata": {
  "kernelspec": {
   "display_name": "Python 3 (ipykernel)",
   "language": "python",
   "name": "python3"
  },
  "language_info": {
   "codemirror_mode": {
    "name": "ipython",
    "version": 3
   },
   "file_extension": ".py",
   "mimetype": "text/x-python",
   "name": "python",
   "nbconvert_exporter": "python",
   "pygments_lexer": "ipython3",
   "version": "3.10.12"
  }
 },
 "nbformat": 4,
 "nbformat_minor": 5
}
