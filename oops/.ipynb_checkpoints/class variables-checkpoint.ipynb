{
 "cells": [
  {
   "cell_type": "markdown",
   "id": "93b78f0d-4e86-48af-87f8-93648b73a000",
   "metadata": {},
   "source": [
    "### Class variables"
   ]
  },
  {
   "cell_type": "code",
   "execution_count": 1,
   "id": "3e81b2b8-d839-4219-a6e0-f49c5eb62605",
   "metadata": {},
   "outputs": [],
   "source": [
    "class myclass:\n",
    "    class_variable = 0\n",
    "    def __init__(self, value):\n",
    "        self.instance_variable = value\n"
   ]
  },
  {
   "cell_type": "code",
   "execution_count": 2,
   "id": "71e2bd28-49fd-4aec-ba5b-b74aeac819e9",
   "metadata": {},
   "outputs": [],
   "source": [
    "obj1 = myclass(10)\n",
    "obj2 = myclass(20)\n"
   ]
  },
  {
   "cell_type": "code",
   "execution_count": 3,
   "id": "de1a9f78-fba2-45b2-a2de-d3abd054230a",
   "metadata": {},
   "outputs": [
    {
     "name": "stdout",
     "output_type": "stream",
     "text": [
      "0\n"
     ]
    }
   ],
   "source": [
    "print(myclass.class_variable) ## accessing class variable"
   ]
  },
  {
   "cell_type": "code",
   "execution_count": 4,
   "id": "26aa3ab2-bf23-4f03-af31-62d5b12fc8be",
   "metadata": {},
   "outputs": [
    {
     "name": "stdout",
     "output_type": "stream",
     "text": [
      "10\n"
     ]
    }
   ],
   "source": [
    "print(obj1.instance_variable)"
   ]
  },
  {
   "cell_type": "code",
   "execution_count": 5,
   "id": "aa524e13-050b-41d2-add1-a423398ad780",
   "metadata": {},
   "outputs": [
    {
     "name": "stdout",
     "output_type": "stream",
     "text": [
      "20\n"
     ]
    }
   ],
   "source": [
    "print(obj2.instance_variable)"
   ]
  },
  {
   "cell_type": "code",
   "execution_count": 6,
   "id": "621da001-8903-4f5c-afa0-1ec6ad09336f",
   "metadata": {},
   "outputs": [],
   "source": [
    "myclass.class_variable = 100 # changing class varialbe for all instances"
   ]
  },
  {
   "cell_type": "code",
   "execution_count": 7,
   "id": "3a6040c4-0da3-4280-9685-85af65b84543",
   "metadata": {},
   "outputs": [
    {
     "name": "stdout",
     "output_type": "stream",
     "text": [
      "100\n"
     ]
    }
   ],
   "source": [
    "print(myclass.class_variable)"
   ]
  },
  {
   "cell_type": "code",
   "execution_count": 10,
   "id": "7102fc87-41b9-4e9c-a7d6-e8ae04abfa92",
   "metadata": {},
   "outputs": [
    {
     "name": "stdout",
     "output_type": "stream",
     "text": [
      "50\n"
     ]
    }
   ],
   "source": [
    "obj1.instance_variable = 50\n",
    "print(obj1.instance_variable)"
   ]
  },
  {
   "cell_type": "markdown",
   "id": "54f4b1dc-4ec1-4a27-b352-0942802ec979",
   "metadata": {},
   "source": [
    "### modifying class variable with one instance"
   ]
  },
  {
   "cell_type": "code",
   "execution_count": 14,
   "id": "28a92797-70ab-41f0-ad01-6b81683ee9e1",
   "metadata": {},
   "outputs": [
    {
     "name": "stdout",
     "output_type": "stream",
     "text": [
      "100\n",
      "20\n",
      "100\n"
     ]
    }
   ],
   "source": [
    "obj1.class_variable = 20 # this modify class variable form obj1 only \n",
    "print(myclass.class_variable) # here after modification its doesn't work\n",
    "print(obj1.class_variable) #here it has change value to 20 because of line one code\n",
    "print(obj2.class_variable)# here it has no change "
   ]
  },
  {
   "cell_type": "code",
   "execution_count": null,
   "id": "c983c716-90e8-4997-a3ff-369d30d29aa0",
   "metadata": {},
   "outputs": [],
   "source": []
  },
  {
   "cell_type": "code",
   "execution_count": null,
   "id": "f676ec2a-b025-4066-9c4c-6dbe9dc8252a",
   "metadata": {},
   "outputs": [],
   "source": []
  }
 ],
 "metadata": {
  "kernelspec": {
   "display_name": "Python 3 (ipykernel)",
   "language": "python",
   "name": "python3"
  },
  "language_info": {
   "codemirror_mode": {
    "name": "ipython",
    "version": 3
   },
   "file_extension": ".py",
   "mimetype": "text/x-python",
   "name": "python",
   "nbconvert_exporter": "python",
   "pygments_lexer": "ipython3",
   "version": "3.10.12"
  }
 },
 "nbformat": 4,
 "nbformat_minor": 5
}
