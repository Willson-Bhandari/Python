{
 "cells": [
  {
   "cell_type": "code",
   "execution_count": 2,
   "id": "66b6abe0-c8fa-4c19-8634-30a1b98f3872",
   "metadata": {},
   "outputs": [],
   "source": [
    "import requests\n",
    "from bs4 import BeautifulSoup as bs"
   ]
  },
  {
   "cell_type": "code",
   "execution_count": 31,
   "id": "81246df4-cf84-4839-b5e1-b21a49cb6fcf",
   "metadata": {},
   "outputs": [],
   "source": [
    "url = requests.get(\"https://anyflip.com/cjmbb/dgom/basic\")"
   ]
  },
  {
   "cell_type": "code",
   "execution_count": 32,
   "id": "8847cd56-7a18-42d2-96cb-97f95ca0d314",
   "metadata": {},
   "outputs": [
    {
     "ename": "NameError",
     "evalue": "name 'values' is not defined",
     "output_type": "error",
     "traceback": [
      "\u001b[0;31m---------------------------------------------------------------------------\u001b[0m",
      "\u001b[0;31mNameError\u001b[0m                                 Traceback (most recent call last)",
      "Cell \u001b[0;32mIn[32], line 1\u001b[0m\n\u001b[0;32m----> 1\u001b[0m optbook \u001b[38;5;241m=\u001b[39m \u001b[38;5;124m\"\u001b[39m\u001b[38;5;124mhttps://online.anyflip.com/cjmbb/dgom/files/mobile/\u001b[39m\u001b[38;5;124m\"\u001b[39m\u001b[38;5;241m+\u001b[39m\u001b[43mvalues\u001b[49m\u001b[38;5;241m+\u001b[39m\u001b[38;5;124m\"\u001b[39m\u001b[38;5;124m.jpg?1589908968\u001b[39m\u001b[38;5;124m\"\u001b[39m\n",
      "\u001b[0;31mNameError\u001b[0m: name 'values' is not defined"
     ]
    }
   ],
   "source": [
    "optbook = \"https://online.anyflip.com/cjmbb/dgom/files/mobile/\"+values+\".jpg?1589908968\""
   ]
  },
  {
   "cell_type": "code",
   "execution_count": null,
   "id": "b1ed65cd-df38-4b0c-84ea-aa19551691d4",
   "metadata": {},
   "outputs": [],
   "source": [
    "a =[]\n",
    "for i in range(1,355):\n",
    "    b = str(i)\n",
    "    a.append(b)\n",
    "    "
   ]
  },
  {
   "cell_type": "code",
   "execution_count": null,
   "id": "2ece08cf-fb7d-4452-a1d6-94a1a7504fa3",
   "metadata": {},
   "outputs": [],
   "source": [
    "optbook_l1 = []\n",
    "for i in a:\n",
    "    d = \"https://online.anyflip.com/cjmbb/dgom/files/mobile/\"+i+\".jpg\"\n",
    "    optbook_l1.append(d)\n",
    "    \n"
   ]
  },
  {
   "cell_type": "code",
   "execution_count": 59,
   "id": "f0bb1ae3-35c8-430e-abb3-28338983184b",
   "metadata": {},
   "outputs": [],
   "source": [
    "lis1 = []\n",
    "with open(\"optbook.txt\", \"r\") as f:\n",
    "    for i in range(1,355):\n",
    "        a =(f.readline())\n",
    "        b = a[0:(len(a)-1)]\n",
    "        lis1.append(b)\n",
    "        \n",
    "   \n",
    "    \n",
    "    "
   ]
  },
  {
   "cell_type": "code",
   "execution_count": 63,
   "id": "8c8b21df-dc5d-4308-a130-142d7e4f440a",
   "metadata": {},
   "outputs": [],
   "source": [
    "import requests\n",
    "import urllib3\n",
    "import logging\n",
    "import os\n",
    "urllib3.disable_warnings()\n",
    "\n",
    "\n",
    "\n",
    "for i in lis1:\n",
    "    response = requests.get(i, verify = False).content\n",
    "    with open(f\"img/opt{i.split('/')[-1]}.jpg\", \"wb\") as f:\n",
    "        f.write(response)"
   ]
  },
  {
   "cell_type": "code",
   "execution_count": 52,
   "id": "9c9b2b44-e829-4eeb-9931-75ea22477de8",
   "metadata": {},
   "outputs": [],
   "source": [
    "with open(\"optbook.txt\", \"w\") as f:\n",
    "    f.close()"
   ]
  },
  {
   "cell_type": "code",
   "execution_count": 21,
   "id": "8a683a5f-3bbf-494b-a9c6-f4aceadf9fee",
   "metadata": {},
   "outputs": [],
   "source": [
    "import requests\n",
    "import urllib3\n",
    "import logging\n",
    "import os\n",
    "urllib3.disable_warnings()\n",
    "\n",
    "response = requests.get(\"https://online.anyflip.com/cjmbb/dgom/files/mobile/1.jpg?1589908968\", verify = False)\n",
    "\n",
    "\n",
    "\n"
   ]
  },
  {
   "cell_type": "code",
   "execution_count": null,
   "id": "da770e58-691c-4d99-8a24-07f7a385fd25",
   "metadata": {},
   "outputs": [],
   "source": []
  }
 ],
 "metadata": {
  "kernelspec": {
   "display_name": "Python 3 (ipykernel)",
   "language": "python",
   "name": "python3"
  },
  "language_info": {
   "codemirror_mode": {
    "name": "ipython",
    "version": 3
   },
   "file_extension": ".py",
   "mimetype": "text/x-python",
   "name": "python",
   "nbconvert_exporter": "python",
   "pygments_lexer": "ipython3",
   "version": "3.10.12"
  }
 },
 "nbformat": 4,
 "nbformat_minor": 5
}
