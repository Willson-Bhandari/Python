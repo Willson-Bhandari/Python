{
 "cells": [
  {
   "cell_type": "code",
   "execution_count": 1,
   "id": "95f57d75-9fc9-43bc-a67f-afa0dd3645f7",
   "metadata": {},
   "outputs": [],
   "source": [
    "import requests"
   ]
  },
  {
   "cell_type": "code",
   "execution_count": 18,
   "id": "783649e0-c0fa-49b3-9a3f-b5dd5ebbcaf9",
   "metadata": {},
   "outputs": [],
   "source": [
    "for i in range(10):\n",
    "    a = i\n",
    "    url = [{\"vol1\": \"https://tucds.edu.np/wp-content/uploads/2022/06/1.\"+f\"{str(a)}.pdf\"},\n",
    "                {\"vol2\": \"https://tucds.edu.np/wp-content/uploads/2022/06/2\"+f\"{str(a)}.pdf\"},\n",
    "                {\"vol3\": \"https://tucds.edu.np/wp-content/uploads/2022/06/3.\"+f\"{str(a)}.pdf\"},\n",
    "                 {\"vol4\": \"https://tucds.edu.np/wp-content/uploads/2022/06/4.\"+f\"{str(a)}.pdf\"},\n",
    "                  {\"vol5\": \"https://tucds.edu.np/wp-content/uploads/2022/06/5.\"+f\"{str(a)}.pdf\"},\n",
    "                  {\"vol6\": \"https://tucds.edu.np/wp-content/uploads/2023/01/6.\"+f\"{str(a)}.pdf\"}\n",
    "                  ]\n",
    "    for b in url[a]:\n",
    "        response = requests(b[)\n",
    "        "
   ]
  },
  {
   "cell_type": "code",
   "execution_count": null,
   "id": "5700a966-efef-4516-9735-4075456cbec2",
   "metadata": {},
   "outputs": [],
   "source": []
  },
  {
   "cell_type": "code",
   "execution_count": 14,
   "id": "bcd4b40f-a4c3-41a9-8274-752a35d2966e",
   "metadata": {},
   "outputs": [
    {
     "data": {
      "text/plain": [
       "{'vol1': 'https://tucds.edu.np/wp-content/uploads/2022/06/1.9.pdf'}"
      ]
     },
     "execution_count": 14,
     "metadata": {},
     "output_type": "execute_result"
    }
   ],
   "source": [
    "url[0]\n"
   ]
  },
  {
   "cell_type": "code",
   "execution_count": 19,
   "id": "e6c3e676-96d2-423b-a50b-2620261d0255",
   "metadata": {},
   "outputs": [
    {
     "data": {
      "text/plain": [
       "range(0, 10)"
      ]
     },
     "execution_count": 19,
     "metadata": {},
     "output_type": "execute_result"
    }
   ],
   "source": [
    "range(10)"
   ]
  },
  {
   "cell_type": "code",
   "execution_count": null,
   "id": "854a77e4-8ca2-49dc-acda-fe0615be86ba",
   "metadata": {},
   "outputs": [],
   "source": [
    "my_dict = {'one': 1, 'two': 2, 'three': 3}\n",
    "my_dict(key)"
   ]
  }
 ],
 "metadata": {
  "kernelspec": {
   "display_name": "Python 3 (ipykernel)",
   "language": "python",
   "name": "python3"
  },
  "language_info": {
   "codemirror_mode": {
    "name": "ipython",
    "version": 3
   },
   "file_extension": ".py",
   "mimetype": "text/x-python",
   "name": "python",
   "nbconvert_exporter": "python",
   "pygments_lexer": "ipython3",
   "version": "3.10.12"
  }
 },
 "nbformat": 4,
 "nbformat_minor": 5
}
