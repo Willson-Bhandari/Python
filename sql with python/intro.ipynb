{
 "cells": [
  {
   "cell_type": "markdown",
   "id": "1c53384e-a462-4067-ac51-7dd8347ae5bc",
   "metadata": {},
   "source": [
    "# basic mysql . intro part\n"
   ]
  },
  {
   "cell_type": "code",
   "execution_count": 22,
   "id": "450ed0d0-5084-4c79-b4ad-8d5778a8e5b0",
   "metadata": {},
   "outputs": [],
   "source": [
    "import mysql.connector"
   ]
  },
  {
   "cell_type": "code",
   "execution_count": 23,
   "id": "325fd2e6-6f1f-4ca1-bb82-844c45e70ba9",
   "metadata": {},
   "outputs": [
    {
     "name": "stdout",
     "output_type": "stream",
     "text": [
      "<mysql.connector.connection_cext.CMySQLConnection object at 0x7f24fbc40580>\n"
     ]
    }
   ],
   "source": [
    "mydb = mysql.connector.connect(\n",
    "    host = \"localhost\",\n",
    "    user = \"root\",\n",
    "    password = \"password_\",\n",
    "    database = \"mypydb\"\n",
    ")\n",
    "print(mydb)"
   ]
  },
  {
   "cell_type": "code",
   "execution_count": 24,
   "id": "0a1ad4c8-3836-47dd-90e4-d05a649c06ce",
   "metadata": {},
   "outputs": [],
   "source": [
    "# cursor() is used to execute statment of mysql "
   ]
  },
  {
   "cell_type": "code",
   "execution_count": 26,
   "id": "bada97fd-3165-4755-81ee-4f6eb74b238b",
   "metadata": {},
   "outputs": [],
   "source": [
    "mycursor =mydb.cursor()\n",
    "mycursor.execute(\"DROP DATABASE mypydb\")"
   ]
  },
  {
   "cell_type": "code",
   "execution_count": 27,
   "id": "4ddab806-8beb-41e8-8ebd-82a8f9922109",
   "metadata": {},
   "outputs": [],
   "source": [
    "mycursor.execute(\"CREATE DATABASE mypydb\")"
   ]
  },
  {
   "cell_type": "code",
   "execution_count": 28,
   "id": "12261faf-a4a9-4c9b-919c-47fe076e9dd1",
   "metadata": {},
   "outputs": [],
   "source": [
    "mycursor.execute(\"SHOW DATABASES\")"
   ]
  },
  {
   "cell_type": "code",
   "execution_count": 29,
   "id": "f4ca4ccc-b2a7-4191-b730-5fe932be5510",
   "metadata": {},
   "outputs": [
    {
     "name": "stdout",
     "output_type": "stream",
     "text": [
      "('XYZ',)\n",
      "('college',)\n",
      "('college1',)\n",
      "('information_schema',)\n",
      "('mydata1',)\n",
      "('mypydb',)\n",
      "('mysql',)\n",
      "('performance_schema',)\n",
      "('sys',)\n"
     ]
    }
   ],
   "source": [
    "for x in mycursor:\n",
    "    print(x)"
   ]
  },
  {
   "cell_type": "code",
   "execution_count": 31,
   "id": "cb3d6cb8-36da-429a-95b7-1fd90559c04d",
   "metadata": {},
   "outputs": [],
   "source": [
    "mycursor.execute(\"USE mypydb\")\n",
    "mycursor.execute(\"CREATE TABLE clz1 (name VARCHAR(50), address VARCHAR(50))\")"
   ]
  },
  {
   "cell_type": "code",
   "execution_count": 32,
   "id": "5abc2ae2-a7fc-4571-a488-7c0b4e69ed46",
   "metadata": {},
   "outputs": [
    {
     "name": "stdout",
     "output_type": "stream",
     "text": [
      "('clz1',)\n"
     ]
    }
   ],
   "source": [
    "mycursor.execute(\"SHOW TABLES\")\n",
    "for x in mycursor:\n",
    "    print(x)"
   ]
  },
  {
   "cell_type": "code",
   "execution_count": null,
   "id": "6a140efa-7831-4cef-b75c-ebeb5ab96ac2",
   "metadata": {},
   "outputs": [],
   "source": []
  }
 ],
 "metadata": {
  "kernelspec": {
   "display_name": "Python 3 (ipykernel)",
   "language": "python",
   "name": "python3"
  },
  "language_info": {
   "codemirror_mode": {
    "name": "ipython",
    "version": 3
   },
   "file_extension": ".py",
   "mimetype": "text/x-python",
   "name": "python",
   "nbconvert_exporter": "python",
   "pygments_lexer": "ipython3",
   "version": "3.10.12"
  }
 },
 "nbformat": 4,
 "nbformat_minor": 5
}
