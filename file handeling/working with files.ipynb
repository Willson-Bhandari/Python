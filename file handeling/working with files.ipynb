{
 "cells": [
  {
   "cell_type": "markdown",
   "id": "901e757c-1c59-402e-8de4-046756c890d7",
   "metadata": {},
   "source": [
    "## python file basic start only"
   ]
  },
  {
   "cell_type": "code",
   "execution_count": 25,
   "id": "e3700dce-1138-4db7-8ea2-678b54f96e74",
   "metadata": {},
   "outputs": [],
   "source": [
    "f = open(\"test.txt\", \"w\")"
   ]
  },
  {
   "cell_type": "code",
   "execution_count": 26,
   "id": "02822f51-306f-444d-b14d-b4f1386a716d",
   "metadata": {},
   "outputs": [
    {
     "data": {
      "text/plain": [
       "'/home/slliw/class practice/file handeling'"
      ]
     },
     "execution_count": 26,
     "metadata": {},
     "output_type": "execute_result"
    }
   ],
   "source": [
    "pwd"
   ]
  },
  {
   "cell_type": "code",
   "execution_count": 27,
   "id": "68d1a524-d053-4b41-ac87-1b845a09c096",
   "metadata": {},
   "outputs": [
    {
     "name": "stdout",
     "output_type": "stream",
     "text": [
      " test.txt  'working with files.ipynb'\n"
     ]
    }
   ],
   "source": [
    "ls"
   ]
  },
  {
   "cell_type": "code",
   "execution_count": 28,
   "id": "4cd56e39-c4db-4b12-a307-1108eae9a79f",
   "metadata": {},
   "outputs": [
    {
     "data": {
      "text/plain": [
       "23"
      ]
     },
     "execution_count": 28,
     "metadata": {},
     "output_type": "execute_result"
    }
   ],
   "source": [
    "f.write(\"this is after new line \")"
   ]
  },
  {
   "cell_type": "code",
   "execution_count": 29,
   "id": "06df68ab-ed3a-49bc-a8cf-96dc0b6e5c03",
   "metadata": {},
   "outputs": [],
   "source": [
    "f.close()"
   ]
  },
  {
   "cell_type": "code",
   "execution_count": 31,
   "id": "05d98929-8262-4c43-a418-e501c4fc8f18",
   "metadata": {},
   "outputs": [],
   "source": [
    "data  = open(\"test.txt\",\"r\")"
   ]
  },
  {
   "cell_type": "code",
   "execution_count": 32,
   "id": "2d3d2254-b518-42dd-a7bf-6a7e9a3cad19",
   "metadata": {},
   "outputs": [
    {
     "data": {
      "text/plain": [
       "'this is after new line '"
      ]
     },
     "execution_count": 32,
     "metadata": {},
     "output_type": "execute_result"
    }
   ],
   "source": [
    "data.read()"
   ]
  },
  {
   "cell_type": "code",
   "execution_count": 33,
   "id": "29bff4e3-04e7-49f7-b497-a5aaaea430a2",
   "metadata": {},
   "outputs": [
    {
     "data": {
      "text/plain": [
       "''"
      ]
     },
     "execution_count": 33,
     "metadata": {},
     "output_type": "execute_result"
    }
   ],
   "source": [
    "data.read()"
   ]
  },
  {
   "cell_type": "code",
   "execution_count": 34,
   "id": "96e12bd8-ce41-4e8f-aa8a-120119104ffd",
   "metadata": {},
   "outputs": [
    {
     "data": {
      "text/plain": [
       "0"
      ]
     },
     "execution_count": 34,
     "metadata": {},
     "output_type": "execute_result"
    }
   ],
   "source": [
    "data.seek(0)"
   ]
  },
  {
   "cell_type": "code",
   "execution_count": 35,
   "id": "30ae1f47-e287-4901-98bd-d53edd6d3305",
   "metadata": {},
   "outputs": [
    {
     "data": {
      "text/plain": [
       "'this is after new line '"
      ]
     },
     "execution_count": 35,
     "metadata": {},
     "output_type": "execute_result"
    }
   ],
   "source": [
    "data.read()"
   ]
  },
  {
   "cell_type": "code",
   "execution_count": 39,
   "id": "12a814f3-a602-4593-b17b-3199eba0978a",
   "metadata": {},
   "outputs": [],
   "source": [
    "data1 = open(\"test.txt\",\"r\")"
   ]
  },
  {
   "cell_type": "code",
   "execution_count": 40,
   "id": "760822f0-278f-4543-afac-e76ceec93695",
   "metadata": {},
   "outputs": [
    {
     "name": "stdout",
     "output_type": "stream",
     "text": [
      "this is after new line \n"
     ]
    }
   ],
   "source": [
    "for i in data1:\n",
    "    print(i)"
   ]
  },
  {
   "cell_type": "code",
   "execution_count": 41,
   "id": "a567000d-5b3a-4dbd-ad22-658b82abac63",
   "metadata": {},
   "outputs": [],
   "source": [
    "import os"
   ]
  },
  {
   "cell_type": "code",
   "execution_count": 42,
   "id": "2a81187b-245d-492e-b4c5-1f6cecd74187",
   "metadata": {},
   "outputs": [
    {
     "data": {
      "text/plain": [
       "23"
      ]
     },
     "execution_count": 42,
     "metadata": {},
     "output_type": "execute_result"
    }
   ],
   "source": [
    "os.path.getsize(\"test.txt\")"
   ]
  },
  {
   "cell_type": "code",
   "execution_count": 43,
   "id": "3b2ac1a7-4b13-473d-9b02-b60640564250",
   "metadata": {},
   "outputs": [],
   "source": [
    "import shutil\n"
   ]
  },
  {
   "cell_type": "code",
   "execution_count": 44,
   "id": "83bf6b1d-125a-40a9-8f2f-2dd72a33a716",
   "metadata": {},
   "outputs": [
    {
     "data": {
      "text/plain": [
       "'newfile.txt'"
      ]
     },
     "execution_count": 44,
     "metadata": {},
     "output_type": "execute_result"
    }
   ],
   "source": [
    "shutil.copy(\"test.txt\", \"newfile.txt\")"
   ]
  },
  {
   "cell_type": "code",
   "execution_count": 45,
   "id": "90856570-0710-48af-98f4-09a8b10f1f00",
   "metadata": {},
   "outputs": [],
   "source": [
    "os.remove(\"test.txt\")"
   ]
  },
  {
   "cell_type": "code",
   "execution_count": 47,
   "id": "3040b66a-4ddd-4367-8d39-954b55e2ce28",
   "metadata": {},
   "outputs": [
    {
     "name": "stdout",
     "output_type": "stream",
     "text": [
      "this is after new line \n"
     ]
    }
   ],
   "source": [
    "with open(\"newfile.txt\", \"r\") as f:\n",
    "    print(f.read())"
   ]
  },
  {
   "cell_type": "code",
   "execution_count": 48,
   "id": "bbab09d7-8cd3-4dab-9273-5bd25ea71177",
   "metadata": {},
   "outputs": [],
   "source": [
    "os.rename(\"newfile.txt\", \"test1.txt\")"
   ]
  },
  {
   "cell_type": "code",
   "execution_count": 53,
   "id": "1a621bfb-e3b5-490c-b4b1-202c33c88af1",
   "metadata": {},
   "outputs": [],
   "source": [
    "g = open(\"ffile.txt\", \"w\")"
   ]
  },
  {
   "cell_type": "code",
   "execution_count": 55,
   "id": "8791b99e-5ca5-4cd8-b7a0-b5cc9f2e7d60",
   "metadata": {},
   "outputs": [
    {
     "data": {
      "text/plain": [
       "261"
      ]
     },
     "execution_count": 55,
     "metadata": {},
     "output_type": "execute_result"
    }
   ],
   "source": [
    "g.write(\"The  module is quite versatile and is a valuable tool when you need to interact with the underlying operating system within your Python programs. It allows you to write cross-platform code that can work on different operating systems with minimal modifications.\")"
   ]
  },
  {
   "cell_type": "code",
   "execution_count": 56,
   "id": "b825fbed-126c-4da2-90a6-9cf8cbd03f32",
   "metadata": {},
   "outputs": [],
   "source": [
    "g.close()"
   ]
  },
  {
   "cell_type": "code",
   "execution_count": 59,
   "id": "894975ed-0ef0-4263-993b-ad850be8988c",
   "metadata": {},
   "outputs": [],
   "source": [
    "c = open(\"ffile.txt\", \"r\")"
   ]
  },
  {
   "cell_type": "code",
   "execution_count": 60,
   "id": "b884cb28-83fd-4758-94b8-0a11eeea3fb9",
   "metadata": {},
   "outputs": [
    {
     "data": {
      "text/plain": [
       "'The  module is quite versatile and is a valuable tool when you need to interact with the underlying operating system within your Python programs. It allows you to write cross-platform code that can work on different operating systems with minimal modifications.'"
      ]
     },
     "execution_count": 60,
     "metadata": {},
     "output_type": "execute_result"
    }
   ],
   "source": [
    "c.read()"
   ]
  },
  {
   "cell_type": "code",
   "execution_count": 61,
   "id": "0d77c52e-884b-4e1d-8760-3b17982d6abf",
   "metadata": {},
   "outputs": [
    {
     "data": {
      "text/plain": [
       "23"
      ]
     },
     "execution_count": 61,
     "metadata": {},
     "output_type": "execute_result"
    }
   ],
   "source": [
    "c.seek(23)"
   ]
  },
  {
   "cell_type": "code",
   "execution_count": 62,
   "id": "64b64e6b-ef5f-4ebc-b7e4-f9f9797490b0",
   "metadata": {},
   "outputs": [
    {
     "data": {
      "text/plain": [
       "'rsatile and is a valuable tool when you need to interact with the underlying operating system within your Python programs. It allows you to write cross-platform code that can work on different operating systems with minimal modifications.'"
      ]
     },
     "execution_count": 62,
     "metadata": {},
     "output_type": "execute_result"
    }
   ],
   "source": [
    "c.read()"
   ]
  },
  {
   "cell_type": "code",
   "execution_count": 63,
   "id": "a021d312-ec29-4d77-8833-f69bef0f887a",
   "metadata": {},
   "outputs": [],
   "source": [
    "import os\n"
   ]
  },
  {
   "cell_type": "code",
   "execution_count": 64,
   "id": "57de3f59-5dbc-4ce8-995d-33df7fcca33d",
   "metadata": {},
   "outputs": [
    {
     "data": {
      "text/plain": [
       "261"
      ]
     },
     "execution_count": 64,
     "metadata": {},
     "output_type": "execute_result"
    }
   ],
   "source": [
    "os.path.getsize(\"ffile.txt\")"
   ]
  },
  {
   "cell_type": "code",
   "execution_count": 65,
   "id": "53af7789-774b-432a-b879-466e9c5f3606",
   "metadata": {},
   "outputs": [],
   "source": [
    "import shutil"
   ]
  },
  {
   "cell_type": "code",
   "execution_count": 66,
   "id": "b31b70a2-43fc-4aed-b2c0-03401199b9fe",
   "metadata": {},
   "outputs": [
    {
     "data": {
      "text/plain": [
       "'new.txt'"
      ]
     },
     "execution_count": 66,
     "metadata": {},
     "output_type": "execute_result"
    }
   ],
   "source": [
    "shutil.copy(\"ffile.txt\", \"new.txt\")"
   ]
  },
  {
   "cell_type": "code",
   "execution_count": 68,
   "id": "17f66165-7945-4e40-b3aa-a9b7707d6b2d",
   "metadata": {},
   "outputs": [],
   "source": [
    "os.remove(\"ffile.txt\")"
   ]
  },
  {
   "cell_type": "code",
   "execution_count": 69,
   "id": "3068c566-4577-452c-a486-e3543b3bbbe6",
   "metadata": {},
   "outputs": [],
   "source": [
    "os.rename(\"new.txt\", \"new1.txt\")"
   ]
  },
  {
   "cell_type": "code",
   "execution_count": 70,
   "id": "c2a07387-0368-43de-b863-b67668d5f5db",
   "metadata": {},
   "outputs": [
    {
     "data": {
      "text/plain": [
       "''"
      ]
     },
     "execution_count": 70,
     "metadata": {},
     "output_type": "execute_result"
    }
   ],
   "source": [
    "c.read()"
   ]
  },
  {
   "cell_type": "code",
   "execution_count": 71,
   "id": "3625f2bf-dac8-4aab-b671-889d87cb55c2",
   "metadata": {},
   "outputs": [
    {
     "data": {
      "text/plain": [
       "0"
      ]
     },
     "execution_count": 71,
     "metadata": {},
     "output_type": "execute_result"
    }
   ],
   "source": [
    "c.seek(0)"
   ]
  },
  {
   "cell_type": "code",
   "execution_count": 72,
   "id": "abb8435f-d85c-4251-8468-514fbb899fdd",
   "metadata": {},
   "outputs": [
    {
     "data": {
      "text/plain": [
       "'The  module is quite versatile and is a valuable tool when you need to interact with the underlying operating system within your Python programs. It allows you to write cross-platform code that can work on different operating systems with minimal modifications.'"
      ]
     },
     "execution_count": 72,
     "metadata": {},
     "output_type": "execute_result"
    }
   ],
   "source": [
    "c.read()"
   ]
  },
  {
   "cell_type": "code",
   "execution_count": 93,
   "id": "3ea502e5-d89a-4941-b62f-bfa112c40f8d",
   "metadata": {},
   "outputs": [
    {
     "data": {
      "text/plain": [
       "35"
      ]
     },
     "execution_count": 93,
     "metadata": {},
     "output_type": "execute_result"
    }
   ],
   "source": [
    "c = open(\"new1.txt\", \"a\")\n",
    "c.write(\"this is new \\\"file in thie document\\\"\")"
   ]
  },
  {
   "cell_type": "code",
   "execution_count": 94,
   "id": "d4e5f953-d911-47c9-8fba-eccede6ca3ea",
   "metadata": {},
   "outputs": [],
   "source": [
    "c.close()\n",
    "c= open(\"new1.txt\", \"r\")"
   ]
  },
  {
   "cell_type": "code",
   "execution_count": 95,
   "id": "b849833a-570f-4d03-bb22-da65112311bf",
   "metadata": {},
   "outputs": [
    {
     "data": {
      "text/plain": [
       "'The  module is quite versatile and is a valuable tool when you need to interact with the underlying operating system within your Python programs. It allows you to write cross-platform code that can work on different operating systems with minimal modifications.this is newfilein thie documentthis is new\"filein thie document\"this is new \"filein thie document\"this is new \"file in thie document\"'"
      ]
     },
     "execution_count": 95,
     "metadata": {},
     "output_type": "execute_result"
    }
   ],
   "source": [
    "c.read()"
   ]
  },
  {
   "cell_type": "code",
   "execution_count": 77,
   "id": "6f8adb50-9ddf-4bf2-b037-0ad12afacbf9",
   "metadata": {},
   "outputs": [
    {
     "ename": "ValueError",
     "evalue": "I/O operation on closed file.",
     "output_type": "error",
     "traceback": [
      "\u001b[0;31m---------------------------------------------------------------------------\u001b[0m",
      "\u001b[0;31mValueError\u001b[0m                                Traceback (most recent call last)",
      "Cell \u001b[0;32mIn[77], line 1\u001b[0m\n\u001b[0;32m----> 1\u001b[0m \u001b[43mc\u001b[49m\u001b[38;5;241;43m.\u001b[39;49m\u001b[43mread\u001b[49m\u001b[43m(\u001b[49m\u001b[43m)\u001b[49m\n",
      "\u001b[0;31mValueError\u001b[0m: I/O operation on closed file."
     ]
    }
   ],
   "source": [
    "data "
   ]
  },
  {
   "cell_type": "code",
   "execution_count": null,
   "id": "8c50e74b-c370-45f2-aabf-0ec1fb70192c",
   "metadata": {},
   "outputs": [],
   "source": [
    "os.remove"
   ]
  },
  {
   "cell_type": "code",
   "execution_count": 96,
   "id": "d921a829-80ff-4aa1-8cf3-0b1c28515f02",
   "metadata": {},
   "outputs": [
    {
     "data": {
      "text/plain": [
       "''"
      ]
     },
     "execution_count": 96,
     "metadata": {},
     "output_type": "execute_result"
    }
   ],
   "source": [
    "c.readline()"
   ]
  },
  {
   "cell_type": "code",
   "execution_count": 97,
   "id": "d200b664-c053-4c50-9b40-222294467a3e",
   "metadata": {},
   "outputs": [
    {
     "data": {
      "text/plain": [
       "'The  module is quite versatile and is a valuable tool when you need to interact with the underlying operating system within your Python programs. It allows you to write cross-platform code that can work on different operating systems with minimal modifications.this is newfilein thie documentthis is new\"filein thie document\"this is new \"filein thie document\"this is new \"file in thie document\"'"
      ]
     },
     "execution_count": 97,
     "metadata": {},
     "output_type": "execute_result"
    }
   ],
   "source": [
    "c.seek(0)\n",
    "c.readline()"
   ]
  },
  {
   "cell_type": "code",
   "execution_count": 98,
   "id": "4c0855ae-9509-4142-bf25-aa376b81b6a5",
   "metadata": {},
   "outputs": [
    {
     "data": {
      "text/plain": [
       "True"
      ]
     },
     "execution_count": 98,
     "metadata": {},
     "output_type": "execute_result"
    }
   ],
   "source": [
    "import os\n",
    "os.path.exists(\"new1.txt\")"
   ]
  },
  {
   "cell_type": "markdown",
   "id": "e9713c25-cbb6-49f3-9ea1-3b9001f93ad8",
   "metadata": {},
   "source": [
    "## json file "
   ]
  },
  {
   "cell_type": "code",
   "execution_count": 101,
   "id": "3cde5b1e-57d9-4c3e-8d59-39c0ccaac3bd",
   "metadata": {},
   "outputs": [],
   "source": [
    "data = {\n",
    "    \"name\" : \"Willson\",\n",
    "    \"mail_id\" : \"willson@gmail.com\",\n",
    "    \"phone_number\": 9234738,\n",
    "    \"subject\":[\"data scinece\", \"big data\", \"data analystics\"]\n",
    "}"
   ]
  },
  {
   "cell_type": "code",
   "execution_count": 102,
   "id": "a2d10646-9ac2-4599-8d07-1b30071ee572",
   "metadata": {},
   "outputs": [],
   "source": [
    "import json\n"
   ]
  },
  {
   "cell_type": "code",
   "execution_count": 103,
   "id": "613d7fc1-2502-4e25-aa2b-ceb386773927",
   "metadata": {},
   "outputs": [],
   "source": [
    "with open(\"test1.json\", \"w\") as f:\n",
    "    json.dump(data, f)"
   ]
  },
  {
   "cell_type": "code",
   "execution_count": 105,
   "id": "7d870eed-f3fc-451d-b658-3431df7d3211",
   "metadata": {},
   "outputs": [],
   "source": [
    "with open(\"test1.json\", \"r\") as f :\n",
    "   data =  json.load(f)"
   ]
  },
  {
   "cell_type": "code",
   "execution_count": 106,
   "id": "b712889c-7696-4a05-9a1e-077014906043",
   "metadata": {},
   "outputs": [
    {
     "data": {
      "text/plain": [
       "{'name': 'Willson',\n",
       " 'mail_id': 'willson@gmail.com',\n",
       " 'phone_number': 9234738,\n",
       " 'subject': ['data scinece', 'big data', 'data analystics']}"
      ]
     },
     "execution_count": 106,
     "metadata": {},
     "output_type": "execute_result"
    }
   ],
   "source": [
    "data"
   ]
  },
  {
   "cell_type": "code",
   "execution_count": 147,
   "id": "ed59f454-5c6d-4b72-8fa5-2bfdb62f6080",
   "metadata": {},
   "outputs": [],
   "source": [
    "jdata  = [23,4234,23423,234, \"Willson\", \"abc\"]\n",
    "jdata1 = {324,343,2432,42,423,\"a\", \"b\", \"c\", \"a\"}\n",
    "jdata2 = (23,234, \"willson\", \"bhandari\")\n",
    "\n",
    "jT = jdata +list(jdata1) + list(jdata2)\n"
   ]
  },
  {
   "cell_type": "code",
   "execution_count": 148,
   "id": "6079949a-3d42-41ac-b216-8a5eeded3350",
   "metadata": {},
   "outputs": [],
   "source": [
    "with open(\"json_data.json\", \"w\") as f:\n",
    "    json.dump(jT, f)"
   ]
  },
  {
   "cell_type": "code",
   "execution_count": 149,
   "id": "cb14563c-97dc-4a07-aafc-8764591679cf",
   "metadata": {},
   "outputs": [
    {
     "name": "stdout",
     "output_type": "stream",
     "text": [
      "[23, 4234, 23423, 234, 'Willson', 'abc', 2432, 324, 423, 'a', 42, 'c', 343, 'b', 23, 234, 'willson', 'bhandari']\n"
     ]
    }
   ],
   "source": [
    "with open(\"json_data.json\", \"r\") as f:\n",
    "   print(json.load(f))"
   ]
  },
  {
   "cell_type": "markdown",
   "id": "023bbc1a-8010-421a-b750-5f33c5c02c5f",
   "metadata": {},
   "source": [
    "## csv writing "
   ]
  },
  {
   "cell_type": "code",
   "execution_count": 4,
   "id": "7b9bbeb2-dce7-4ab3-ae5b-d2fe9fe9a3a0",
   "metadata": {},
   "outputs": [],
   "source": [
    "import csv\n",
    "fields = [\"Name\", \"Branch\", \"Year\", \"CGPA\"]\n",
    "\n",
    "rows = [[\"Nikhil\", \"CEO\", \"2\", 3.4], \n",
    "        [\"Manoj\", \"Kaldhara\", 3, 2], \n",
    "        [ \"Willson\", \"HOD\", 5, 4], \n",
    "        [\"sagar\", \"BKT\", 2, 4],\n",
    "        [\"Neerajan\", \"Jarankkhu\", 2, 4]\n",
    "       ]\n",
    "\n",
    "filename = \"Some_detail.csv\"\n",
    "with open(filename, \"w\") as f:\n",
    "    csvwriter = csv.writer(f)\n",
    "    csvwriter.writerow(fields)\n",
    "    csvwriter.writerows(rows)\n",
    "    "
   ]
  },
  {
   "cell_type": "code",
   "execution_count": 5,
   "id": "a5a880c9-3289-4e25-a7a8-b6de9b0df0fb",
   "metadata": {},
   "outputs": [],
   "source": [
    "new_rows = [\"ram\", \"lmc\", 2, 3.4]"
   ]
  },
  {
   "cell_type": "code",
   "execution_count": 6,
   "id": "b795ff71-ebae-427b-8b36-1706d7d3cfc2",
   "metadata": {},
   "outputs": [],
   "source": [
    "with open(filename, \"a\") as f:\n",
    "    csvwriter = csv.writer(f)\n",
    "    csvwriter.writerow(new_rows)"
   ]
  },
  {
   "cell_type": "markdown",
   "id": "3a2e9b25-91d1-42d7-926a-3996b1e89d28",
   "metadata": {},
   "source": [
    "# writing a dictionary to csv file"
   ]
  },
  {
   "cell_type": "code",
   "execution_count": 2,
   "id": "3b7ebdd5-1126-41cc-8ef1-0c08d5d9f04e",
   "metadata": {},
   "outputs": [],
   "source": [
    "import csv\n",
    "my_dict = [{ \"Branch\": \"Lainchour\", \"CGPA\": 2.4,\n",
    "            \"name\": \"Manoj\", \"year\": 3}, \n",
    "           { \"Branch\":\"bhaktapur\",\"CGPA\":2.2, \n",
    "            \"name\":\"rupesh\", \"year\":2}, \n",
    "           { \"Branch\":\"bhaktapur\",\"CGPA\":2.2, \n",
    "            \"name\":\"rupesh\", \"year\":2}, \n",
    "           { \"Branch\":\"bhaktapur\",\"CGPA\":2.2, \n",
    "            \"name\":\"rupesh\", \"year\":2}, \n",
    "           { \"Branch\":\"Kathmandu\",\"CGPA\":4, \n",
    "            \"name\":\"willson\", \"year\":3}]\n",
    "fields = [\"name\", \"Branch\", \"year\", \"CGPA\"]\n",
    "filename = \"details.csv\"\n"
   ]
  },
  {
   "cell_type": "code",
   "execution_count": 7,
   "id": "36848ab5-55fc-445b-afd3-4ef080c8856b",
   "metadata": {},
   "outputs": [
    {
     "ename": "AttributeError",
     "evalue": "module 'csv' has no attribute 'dictwriter'",
     "output_type": "error",
     "traceback": [
      "\u001b[0;31m---------------------------------------------------------------------------\u001b[0m",
      "\u001b[0;31mAttributeError\u001b[0m                            Traceback (most recent call last)",
      "Cell \u001b[0;32mIn[7], line 2\u001b[0m\n\u001b[1;32m      1\u001b[0m \u001b[38;5;28;01mwith\u001b[39;00m \u001b[38;5;28mopen\u001b[39m(filename, \u001b[38;5;124m\"\u001b[39m\u001b[38;5;124mw\u001b[39m\u001b[38;5;124m\"\u001b[39m) \u001b[38;5;28;01mas\u001b[39;00m f:\n\u001b[0;32m----> 2\u001b[0m     writer \u001b[38;5;241m=\u001b[39m \u001b[43mcsv\u001b[49m\u001b[38;5;241;43m.\u001b[39;49m\u001b[43mdictwriter\u001b[49m\n\u001b[1;32m      3\u001b[0m     csv\u001b[38;5;241m.\u001b[39mwriterrows\n",
      "\u001b[0;31mAttributeError\u001b[0m: module 'csv' has no attribute 'dictwriter'"
     ]
    }
   ],
   "source": [
    "with open(filename, \"w\") as f:\n",
    "    writer = csv.\n",
    "    csv.writerrows"
   ]
  },
  {
   "cell_type": "code",
   "execution_count": 5,
   "id": "2b7b42a5-9f3f-42dc-8a57-70b650beab12",
   "metadata": {},
   "outputs": [
    {
     "data": {
      "text/plain": [
       "\u001b[0;31mInit signature:\u001b[0m \u001b[0mtype\u001b[0m\u001b[0;34m(\u001b[0m\u001b[0mself\u001b[0m\u001b[0;34m,\u001b[0m \u001b[0;34m/\u001b[0m\u001b[0;34m,\u001b[0m \u001b[0;34m*\u001b[0m\u001b[0margs\u001b[0m\u001b[0;34m,\u001b[0m \u001b[0;34m**\u001b[0m\u001b[0mkwargs\u001b[0m\u001b[0;34m)\u001b[0m\u001b[0;34m\u001b[0m\u001b[0;34m\u001b[0m\u001b[0m\n",
       "\u001b[0;31mDocstring:\u001b[0m     \n",
       "type(object) -> the object's type\n",
       "type(name, bases, dict, **kwds) -> a new type\n",
       "\u001b[0;31mType:\u001b[0m           type\n",
       "\u001b[0;31mSubclasses:\u001b[0m     ABCMeta, EnumMeta, NamedTupleMeta, _TypedDictMeta, PyCStructType, UnionType, PyCPointerType, PyCArrayType, PyCSimpleType, PyCFuncPtrType, ..."
      ]
     },
     "metadata": {},
     "output_type": "display_data"
    }
   ],
   "source": [
    "csv.dictwriter??\n"
   ]
  },
  {
   "cell_type": "code",
   "execution_count": null,
   "id": "cc4b83d3-91a3-480d-a0ed-19a8818638ba",
   "metadata": {},
   "outputs": [],
   "source": []
  },
  {
   "cell_type": "code",
   "execution_count": null,
   "id": "e71fca98-357a-4e66-a680-91a955514f8c",
   "metadata": {},
   "outputs": [],
   "source": []
  },
  {
   "cell_type": "code",
   "execution_count": null,
   "id": "0c0a18bf-e993-4455-83c8-02cde749bf3c",
   "metadata": {},
   "outputs": [],
   "source": []
  },
  {
   "cell_type": "code",
   "execution_count": null,
   "id": "8e456299-94bf-4687-9fda-ddac9908c5fb",
   "metadata": {},
   "outputs": [],
   "source": [
    "\n",
    "    "
   ]
  }
 ],
 "metadata": {
  "kernelspec": {
   "display_name": "Python 3 (ipykernel)",
   "language": "python",
   "name": "python3"
  },
  "language_info": {
   "codemirror_mode": {
    "name": "ipython",
    "version": 3
   },
   "file_extension": ".py",
   "mimetype": "text/x-python",
   "name": "python",
   "nbconvert_exporter": "python",
   "pygments_lexer": "ipython3",
   "version": "3.10.12"
  }
 },
 "nbformat": 4,
 "nbformat_minor": 5
}
