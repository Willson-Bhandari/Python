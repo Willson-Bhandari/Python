{
 "cells": [
  {
   "cell_type": "markdown",
   "id": "2b7d02a2-c918-4b82-b8a0-2de3162d6709",
   "metadata": {},
   "source": [
    "## second time practice"
   ]
  },
  {
   "cell_type": "code",
   "execution_count": 3,
   "id": "10b503eb-4997-4c31-b996-9c8d152b2e45",
   "metadata": {},
   "outputs": [],
   "source": [
    "f = open(\"fname2.text\", \"w\")\n",
    "f.write(\"this is fist line of this file\")\n",
    "f.close()"
   ]
  },
  {
   "cell_type": "code",
   "execution_count": 4,
   "id": "7ade64df-31b1-402c-ac45-d2a193a25590",
   "metadata": {},
   "outputs": [],
   "source": [
    "f = open(\"fname2.text\", \"a\")\n",
    "f.write(\"\\nthis is another line have a look through it ok\")\n",
    "f.close()"
   ]
  },
  {
   "cell_type": "code",
   "execution_count": 2,
   "id": "5ce27272-ee55-4803-a546-45166139271e",
   "metadata": {},
   "outputs": [
    {
     "data": {
      "text/plain": [
       "'this is fist line of this file\\nthis is another line have a look through it ok'"
      ]
     },
     "execution_count": 2,
     "metadata": {},
     "output_type": "execute_result"
    }
   ],
   "source": [
    "f = open(\"fname2.text\")\n",
    "f.read()\n"
   ]
  },
  {
   "cell_type": "markdown",
   "id": "f1982f6f-7bff-4def-9c15-8335c25880d9",
   "metadata": {},
   "source": [
    "## json file"
   ]
  },
  {
   "cell_type": "code",
   "execution_count": 8,
   "id": "762ae856-e3e5-4b99-bdc5-494a2de6376b",
   "metadata": {},
   "outputs": [],
   "source": [
    "import json"
   ]
  },
  {
   "cell_type": "code",
   "execution_count": 24,
   "id": "c2308e52-7f25-426f-86a1-6aff6261283a",
   "metadata": {},
   "outputs": [
    {
     "name": "stdout",
     "output_type": "stream",
     "text": [
      "{'name': 'willson', 'age': 32, 'address': 'bkt'}\n"
     ]
    }
   ],
   "source": [
    "dis = {\"name\":\"willson\", \"age\":32, \"address\":\"bkt\"}\n",
    "with open(\"json2.json\",\"w+\") as f:\n",
    "    json.dump(dis, f)\n",
    "    f.seek(0)\n",
    "    y = json.load(f)\n",
    "    print(y)"
   ]
  },
  {
   "cell_type": "markdown",
   "id": "55ec98eb-4f72-403a-8f86-4f69e681923c",
   "metadata": {},
   "source": [
    "### csv file"
   ]
  },
  {
   "cell_type": "code",
   "execution_count": 29,
   "id": "6ec161a4-a7fb-4e10-b2b9-0b52ba6978ec",
   "metadata": {},
   "outputs": [],
   "source": [
    "import csv  \n",
    "    \n",
    "# field names  \n",
    "fields = ['Name', 'Branch', 'Year', 'CGPA']  \n",
    "    \n",
    "# data rows of csv file  \n",
    "rows = [ ['Nikhil', 'COE', '2', '9.0'],  \n",
    "         ['Sanchit', 'COE', '2', '9.1'],  \n",
    "         ['Aditya', 'IT', '2', '9.3'],  \n",
    "         ['Sagar', 'SE', '1', '9.5'],  \n",
    "         ['Prateek', 'MCE', '3', '7.8'],  \n",
    "         ['Sahil', 'EP', '2', '9.1']] \n",
    "with open(\"csv2.csv\", \"w\") as f:\n",
    "    csvwriter = csv.writer(f)\n",
    "    csvwriter.writerow(fields)\n",
    "    csvwriter.writerows(rows)"
   ]
  },
  {
   "cell_type": "code",
   "execution_count": 26,
   "id": "c00568df-8e16-44f7-96dd-c5d91146f774",
   "metadata": {},
   "outputs": [],
   "source": [
    "import os\n"
   ]
  },
  {
   "cell_type": "code",
   "execution_count": 31,
   "id": "0cb6bf4c-c600-4c1d-a05e-0d68b9c7fb07",
   "metadata": {},
   "outputs": [],
   "source": [
    "os.remove(\"csv2\")"
   ]
  },
  {
   "cell_type": "code",
   "execution_count": null,
   "id": "ad1058b8-3526-4e4c-adb5-62c63e223fb0",
   "metadata": {},
   "outputs": [],
   "source": []
  }
 ],
 "metadata": {
  "kernelspec": {
   "display_name": "Python 3 (ipykernel)",
   "language": "python",
   "name": "python3"
  },
  "language_info": {
   "codemirror_mode": {
    "name": "ipython",
    "version": 3
   },
   "file_extension": ".py",
   "mimetype": "text/x-python",
   "name": "python",
   "nbconvert_exporter": "python",
   "pygments_lexer": "ipython3",
   "version": "3.10.12"
  }
 },
 "nbformat": 4,
 "nbformat_minor": 5
}
