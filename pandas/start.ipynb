{
 "cells": [
  {
   "cell_type": "markdown",
   "id": "ce59c5a3-1255-40c4-bb85-a690f1ede838",
   "metadata": {},
   "source": [
    "# from w3schools \n",
    "some basic stuffs\n"
   ]
  },
  {
   "cell_type": "code",
   "execution_count": 5,
   "id": "8fc4be3a-0f98-4b72-ae04-b3ad448e83f0",
   "metadata": {},
   "outputs": [],
   "source": [
    "import pandas as pd\n"
   ]
  },
  {
   "cell_type": "code",
   "execution_count": 6,
   "id": "58a2a1c2-1d60-4aad-99bb-e244e19205d7",
   "metadata": {},
   "outputs": [
    {
     "name": "stdout",
     "output_type": "stream",
     "text": [
      "    cars  passing\n",
      "0    BMW        3\n",
      "1  Volvo        7\n",
      "2   Ford        2\n"
     ]
    }
   ],
   "source": [
    "my_data = {\n",
    "    \"cars\": [\"BMW\", \"Volvo\", \"Ford\"],\n",
    "    \"passing\":[3,7,2]\n",
    "}\n",
    "myvar = pd.DataFrame(my_data)\n",
    "print(myvar)"
   ]
  },
  {
   "cell_type": "code",
   "execution_count": 8,
   "id": "1b878cbb-7681-4a3f-b639-cffa1f226840",
   "metadata": {},
   "outputs": [
    {
     "name": "stdout",
     "output_type": "stream",
     "text": [
      "2.1.1\n"
     ]
    }
   ],
   "source": [
    "print(pd.__version__)"
   ]
  },
  {
   "cell_type": "code",
   "execution_count": 11,
   "id": "94757995-09e9-4007-8df4-97d8c80f658f",
   "metadata": {},
   "outputs": [
    {
     "name": "stdout",
     "output_type": "stream",
     "text": [
      "0    1\n",
      "1    3\n",
      "2    4\n",
      "3    5\n",
      "4    2\n",
      "5    1\n",
      "6    3\n",
      "dtype: int64\n"
     ]
    }
   ],
   "source": [
    "a = [ 1,3,4,5,2,1,3] # series is expression in column format\n",
    "var = pd.Series(a)\n",
    "print(pd.Series(a))"
   ]
  },
  {
   "cell_type": "code",
   "execution_count": 12,
   "id": "9215597b-5896-4fb7-8d4c-8fbe1b447f2a",
   "metadata": {},
   "outputs": [
    {
     "data": {
      "text/plain": [
       "1"
      ]
     },
     "execution_count": 12,
     "metadata": {},
     "output_type": "execute_result"
    }
   ],
   "source": [
    "var[0]"
   ]
  },
  {
   "cell_type": "code",
   "execution_count": 13,
   "id": "0254d673-16fb-4da5-9af5-69d560b3e415",
   "metadata": {},
   "outputs": [
    {
     "data": {
      "text/plain": [
       "4"
      ]
     },
     "execution_count": 13,
     "metadata": {},
     "output_type": "execute_result"
    }
   ],
   "source": [
    "var[2]\n"
   ]
  },
  {
   "cell_type": "markdown",
   "id": "57d3fbbf-18a8-4c7c-a098-33ba3dadd48e",
   "metadata": {},
   "source": [
    "# creatinf index of my own \n"
   ]
  },
  {
   "cell_type": "code",
   "execution_count": 21,
   "id": "f02774d3-4905-48b1-abe0-b0fafa137431",
   "metadata": {},
   "outputs": [
    {
     "name": "stdout",
     "output_type": "stream",
     "text": [
      "x    2\n",
      "y    3\n",
      "3    4\n",
      "5    2\n",
      "6    3\n",
      "7    2\n",
      "dtype: int64\n"
     ]
    },
    {
     "data": {
      "text/plain": [
       "2"
      ]
     },
     "execution_count": 21,
     "metadata": {},
     "output_type": "execute_result"
    }
   ],
   "source": [
    "a = [2,3,4,2,3,2]\n",
    "var1 = pd.Series( a, index = [\"x\", \"y\", 3,5,6,7]) #this is the process of giving own index number \n",
    "\n",
    "\n",
    "print(var1)\n",
    "var1[\"x\"] #here look at this ."
   ]
  },
  {
   "cell_type": "code",
   "execution_count": 23,
   "id": "0057ea42-9692-4598-885d-c72d19330652",
   "metadata": {},
   "outputs": [
    {
     "ename": "KeyError",
     "evalue": "0",
     "output_type": "error",
     "traceback": [
      "\u001b[0;31m---------------------------------------------------------------------------\u001b[0m",
      "\u001b[0;31mKeyError\u001b[0m                                  Traceback (most recent call last)",
      "File \u001b[0;32m~/.local/lib/python3.10/site-packages/pandas/core/indexes/base.py:3790\u001b[0m, in \u001b[0;36mIndex.get_loc\u001b[0;34m(self, key)\u001b[0m\n\u001b[1;32m   3789\u001b[0m \u001b[38;5;28;01mtry\u001b[39;00m:\n\u001b[0;32m-> 3790\u001b[0m     \u001b[38;5;28;01mreturn\u001b[39;00m \u001b[38;5;28;43mself\u001b[39;49m\u001b[38;5;241;43m.\u001b[39;49m\u001b[43m_engine\u001b[49m\u001b[38;5;241;43m.\u001b[39;49m\u001b[43mget_loc\u001b[49m\u001b[43m(\u001b[49m\u001b[43mcasted_key\u001b[49m\u001b[43m)\u001b[49m\n\u001b[1;32m   3791\u001b[0m \u001b[38;5;28;01mexcept\u001b[39;00m \u001b[38;5;167;01mKeyError\u001b[39;00m \u001b[38;5;28;01mas\u001b[39;00m err:\n",
      "File \u001b[0;32mindex.pyx:152\u001b[0m, in \u001b[0;36mpandas._libs.index.IndexEngine.get_loc\u001b[0;34m()\u001b[0m\n",
      "File \u001b[0;32mindex.pyx:181\u001b[0m, in \u001b[0;36mpandas._libs.index.IndexEngine.get_loc\u001b[0;34m()\u001b[0m\n",
      "File \u001b[0;32mpandas/_libs/hashtable_class_helper.pxi:7080\u001b[0m, in \u001b[0;36mpandas._libs.hashtable.PyObjectHashTable.get_item\u001b[0;34m()\u001b[0m\n",
      "File \u001b[0;32mpandas/_libs/hashtable_class_helper.pxi:7088\u001b[0m, in \u001b[0;36mpandas._libs.hashtable.PyObjectHashTable.get_item\u001b[0;34m()\u001b[0m\n",
      "\u001b[0;31mKeyError\u001b[0m: 0",
      "\nThe above exception was the direct cause of the following exception:\n",
      "\u001b[0;31mKeyError\u001b[0m                                  Traceback (most recent call last)",
      "Cell \u001b[0;32mIn[23], line 1\u001b[0m\n\u001b[0;32m----> 1\u001b[0m \u001b[43mvar1\u001b[49m\u001b[43m[\u001b[49m\u001b[38;5;241;43m0\u001b[39;49m\u001b[43m]\u001b[49m \u001b[38;5;66;03m# here the default index is void because i set it on my own so \u001b[39;00m\n",
      "File \u001b[0;32m~/.local/lib/python3.10/site-packages/pandas/core/series.py:1040\u001b[0m, in \u001b[0;36mSeries.__getitem__\u001b[0;34m(self, key)\u001b[0m\n\u001b[1;32m   1037\u001b[0m     \u001b[38;5;28;01mreturn\u001b[39;00m \u001b[38;5;28mself\u001b[39m\u001b[38;5;241m.\u001b[39m_values[key]\n\u001b[1;32m   1039\u001b[0m \u001b[38;5;28;01melif\u001b[39;00m key_is_scalar:\n\u001b[0;32m-> 1040\u001b[0m     \u001b[38;5;28;01mreturn\u001b[39;00m \u001b[38;5;28;43mself\u001b[39;49m\u001b[38;5;241;43m.\u001b[39;49m\u001b[43m_get_value\u001b[49m\u001b[43m(\u001b[49m\u001b[43mkey\u001b[49m\u001b[43m)\u001b[49m\n\u001b[1;32m   1042\u001b[0m \u001b[38;5;66;03m# Convert generator to list before going through hashable part\u001b[39;00m\n\u001b[1;32m   1043\u001b[0m \u001b[38;5;66;03m# (We will iterate through the generator there to check for slices)\u001b[39;00m\n\u001b[1;32m   1044\u001b[0m \u001b[38;5;28;01mif\u001b[39;00m is_iterator(key):\n",
      "File \u001b[0;32m~/.local/lib/python3.10/site-packages/pandas/core/series.py:1156\u001b[0m, in \u001b[0;36mSeries._get_value\u001b[0;34m(self, label, takeable)\u001b[0m\n\u001b[1;32m   1153\u001b[0m     \u001b[38;5;28;01mreturn\u001b[39;00m \u001b[38;5;28mself\u001b[39m\u001b[38;5;241m.\u001b[39m_values[label]\n\u001b[1;32m   1155\u001b[0m \u001b[38;5;66;03m# Similar to Index.get_value, but we do not fall back to positional\u001b[39;00m\n\u001b[0;32m-> 1156\u001b[0m loc \u001b[38;5;241m=\u001b[39m \u001b[38;5;28;43mself\u001b[39;49m\u001b[38;5;241;43m.\u001b[39;49m\u001b[43mindex\u001b[49m\u001b[38;5;241;43m.\u001b[39;49m\u001b[43mget_loc\u001b[49m\u001b[43m(\u001b[49m\u001b[43mlabel\u001b[49m\u001b[43m)\u001b[49m\n\u001b[1;32m   1158\u001b[0m \u001b[38;5;28;01mif\u001b[39;00m is_integer(loc):\n\u001b[1;32m   1159\u001b[0m     \u001b[38;5;28;01mreturn\u001b[39;00m \u001b[38;5;28mself\u001b[39m\u001b[38;5;241m.\u001b[39m_values[loc]\n",
      "File \u001b[0;32m~/.local/lib/python3.10/site-packages/pandas/core/indexes/base.py:3797\u001b[0m, in \u001b[0;36mIndex.get_loc\u001b[0;34m(self, key)\u001b[0m\n\u001b[1;32m   3792\u001b[0m     \u001b[38;5;28;01mif\u001b[39;00m \u001b[38;5;28misinstance\u001b[39m(casted_key, \u001b[38;5;28mslice\u001b[39m) \u001b[38;5;129;01mor\u001b[39;00m (\n\u001b[1;32m   3793\u001b[0m         \u001b[38;5;28misinstance\u001b[39m(casted_key, abc\u001b[38;5;241m.\u001b[39mIterable)\n\u001b[1;32m   3794\u001b[0m         \u001b[38;5;129;01mand\u001b[39;00m \u001b[38;5;28many\u001b[39m(\u001b[38;5;28misinstance\u001b[39m(x, \u001b[38;5;28mslice\u001b[39m) \u001b[38;5;28;01mfor\u001b[39;00m x \u001b[38;5;129;01min\u001b[39;00m casted_key)\n\u001b[1;32m   3795\u001b[0m     ):\n\u001b[1;32m   3796\u001b[0m         \u001b[38;5;28;01mraise\u001b[39;00m InvalidIndexError(key)\n\u001b[0;32m-> 3797\u001b[0m     \u001b[38;5;28;01mraise\u001b[39;00m \u001b[38;5;167;01mKeyError\u001b[39;00m(key) \u001b[38;5;28;01mfrom\u001b[39;00m \u001b[38;5;21;01merr\u001b[39;00m\n\u001b[1;32m   3798\u001b[0m \u001b[38;5;28;01mexcept\u001b[39;00m \u001b[38;5;167;01mTypeError\u001b[39;00m:\n\u001b[1;32m   3799\u001b[0m     \u001b[38;5;66;03m# If we have a listlike key, _check_indexing_error will raise\u001b[39;00m\n\u001b[1;32m   3800\u001b[0m     \u001b[38;5;66;03m#  InvalidIndexError. Otherwise we fall through and re-raise\u001b[39;00m\n\u001b[1;32m   3801\u001b[0m     \u001b[38;5;66;03m#  the TypeError.\u001b[39;00m\n\u001b[1;32m   3802\u001b[0m     \u001b[38;5;28mself\u001b[39m\u001b[38;5;241m.\u001b[39m_check_indexing_error(key)\n",
      "\u001b[0;31mKeyError\u001b[0m: 0"
     ]
    }
   ],
   "source": [
    "var1[0] # here the default index is void because i set it on my own so "
   ]
  },
  {
   "cell_type": "code",
   "execution_count": 25,
   "id": "0fbe334a-4304-4676-a84b-91daf2cbad4f",
   "metadata": {},
   "outputs": [
    {
     "data": {
      "text/plain": [
       "2"
      ]
     },
     "execution_count": 25,
     "metadata": {},
     "output_type": "execute_result"
    }
   ],
   "source": [
    "var1[5]"
   ]
  },
  {
   "cell_type": "code",
   "execution_count": 29,
   "id": "b52916df-9a76-4583-a06b-271238abd83e",
   "metadata": {},
   "outputs": [
    {
     "name": "stdout",
     "output_type": "stream",
     "text": [
      "x    2\n",
      "y    3\n",
      "z    4\n",
      "a    5\n",
      "b    4\n",
      "dtype: int64\n"
     ]
    }
   ],
   "source": [
    "x = [2,3,4,5,4]\n",
    "var2 = pd.Series(x, index = [\"x\", \"y\", \"z\", \"a\", \"b\"])\n",
    "print(var2)"
   ]
  },
  {
   "cell_type": "code",
   "execution_count": 30,
   "id": "380664de-42b2-4d90-9136-d15b29efc577",
   "metadata": {},
   "outputs": [
    {
     "name": "stdout",
     "output_type": "stream",
     "text": [
      "2\n"
     ]
    }
   ],
   "source": [
    "# printinf with index wise lets see\n",
    "print(var2[\"x\"])"
   ]
  },
  {
   "cell_type": "code",
   "execution_count": 31,
   "id": "d1f11c63-26de-4310-b658-e7f053f523b4",
   "metadata": {},
   "outputs": [
    {
     "name": "stdout",
     "output_type": "stream",
     "text": [
      "first period                   spatial\n",
      "second period                   survey\n",
      "third period     navaraj & santosh sir\n",
      "last period        official statistics\n",
      "dtype: object\n"
     ]
    }
   ],
   "source": [
    "myperiods = {\"first period\": \"spatial\", \"second period\":\"survey\", \"third period\":\"navaraj & santosh sir\",\n",
    "             \"last period\": \"official statistics\"}\n",
    "var3 = pd.Series(myperiods)\n",
    "print(var3)"
   ]
  },
  {
   "cell_type": "markdown",
   "id": "ea3f456d-93fb-457b-b931-10dfbfc630b8",
   "metadata": {},
   "source": [
    "# the key of the dictionary becomes the lebel "
   ]
  },
  {
   "cell_type": "markdown",
   "id": "67abc441-1a53-4ec5-945d-1462d2427f0e",
   "metadata": {},
   "source": [
    "### the same process is done for selecting some key value from the dictionary . \n"
   ]
  },
  {
   "cell_type": "code",
   "execution_count": 34,
   "id": "5a64924f-cff5-42dd-9b04-0b5acdfa37e7",
   "metadata": {},
   "outputs": [
    {
     "name": "stdout",
     "output_type": "stream",
     "text": [
      "first period                spatial\n",
      "last period     official statistics\n",
      "dtype: object\n"
     ]
    }
   ],
   "source": [
    "var4 = pd.Series(myperiods, index = [\"first period\", \"last period\"])\n",
    "print(var4)"
   ]
  },
  {
   "cell_type": "markdown",
   "id": "8a485fa3-f1fb-48cd-a4df-46375aff0b0a",
   "metadata": {},
   "source": [
    "# see the same things is done using DataFrame\n"
   ]
  },
  {
   "cell_type": "code",
   "execution_count": 35,
   "id": "c8512240-9590-4b66-946e-3deeaa97a476",
   "metadata": {},
   "outputs": [
    {
     "name": "stdout",
     "output_type": "stream",
     "text": [
      "  periods  subjects\n",
      "0   first   spatial\n",
      "1  second    survey\n",
      "2   third  modeling\n",
      "3    last  Official\n"
     ]
    }
   ],
   "source": [
    "data = {\n",
    "    \"periods\":[\"first\", \"second\", \"third\", \"last\"],\n",
    "    \"subjects\":[\"spatial\", \"survey\", \"modeling\", \"Official\"]\n",
    "}\n",
    "var5 = pd.DataFrame(data)\n",
    "print(var5)"
   ]
  },
  {
   "cell_type": "code",
   "execution_count": null,
   "id": "fe6e4602-c3a2-4b81-ace2-733cf0f67a75",
   "metadata": {},
   "outputs": [],
   "source": []
  }
 ],
 "metadata": {
  "kernelspec": {
   "display_name": "Python 3 (ipykernel)",
   "language": "python",
   "name": "python3"
  },
  "language_info": {
   "codemirror_mode": {
    "name": "ipython",
    "version": 3
   },
   "file_extension": ".py",
   "mimetype": "text/x-python",
   "name": "python",
   "nbconvert_exporter": "python",
   "pygments_lexer": "ipython3",
   "version": "3.10.12"
  }
 },
 "nbformat": 4,
 "nbformat_minor": 5
}
