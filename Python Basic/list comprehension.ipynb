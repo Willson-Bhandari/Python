{
 "cells": [
  {
   "cell_type": "markdown",
   "id": "5c3502f3-01c5-4d50-b437-587916b0012e",
   "metadata": {},
   "source": [
    "## list comprehension"
   ]
  },
  {
   "cell_type": "code",
   "execution_count": 3,
   "id": "2af8b170-1923-493d-b279-78c631d2dcae",
   "metadata": {},
   "outputs": [
    {
     "name": "stdout",
     "output_type": "stream",
     "text": [
      "['APPLE', 'BANANA', 'MANGO']\n"
     ]
    }
   ],
   "source": [
    "fruits = [\"apple\", \"banana\", \"cherry\", \"kiwi\", \"mango\"]\n",
    "newlist = [x.upper() for x in fruits if \"a\" in x]\n",
    "print(newlist)"
   ]
  },
  {
   "cell_type": "code",
   "execution_count": 4,
   "id": "5a9c45df-65e3-4c93-8375-b88e68a3151f",
   "metadata": {},
   "outputs": [
    {
     "name": "stdout",
     "output_type": "stream",
     "text": [
      "['apple', 'banana', 'mango']\n"
     ]
    }
   ],
   "source": [
    "fruits = [\"apple\", \"banana\", \"cherry\", \"kiwi\", \"mango\"]\n",
    "newlist = [x for x in fruits if \"a\" in x]\n",
    "print(newlist)"
   ]
  },
  {
   "cell_type": "code",
   "execution_count": 5,
   "id": "88c0e19a-2552-4a8c-8f7d-1a7b60df8b85",
   "metadata": {},
   "outputs": [
    {
     "name": "stdout",
     "output_type": "stream",
     "text": [
      "['apple', 'banana', 'mango']\n"
     ]
    }
   ],
   "source": [
    "fruits = [\"apple\", \"banana\", \"cherry\", \"kiwi\", \"mango\"]\n",
    "newlist = [x.lower() for x in fruits if \"a\" in x]\n",
    "print(newlist)"
   ]
  },
  {
   "cell_type": "code",
   "execution_count": 6,
   "id": "6bd4c7f6-8e1c-4544-91f8-fe45263eb5b1",
   "metadata": {},
   "outputs": [
    {
     "name": "stdout",
     "output_type": "stream",
     "text": [
      "[5, 6, 5]\n"
     ]
    }
   ],
   "source": [
    "fruits = [\"apple\", \"banana\", \"cherry\", \"kiwi\", \"mango\"]\n",
    "newlist = [len(x) for x in fruits if \"a\" in x]\n",
    "print(newlist)"
   ]
  },
  {
   "cell_type": "code",
   "execution_count": 10,
   "id": "b186ffe7-8e06-47c7-a2d8-081ca5f003ac",
   "metadata": {},
   "outputs": [],
   "source": [
    "newlist1 = [x for x in fruits if x !=\"apple\"]"
   ]
  },
  {
   "cell_type": "code",
   "execution_count": 11,
   "id": "1362fd53-c1d6-4648-8cf5-4b5bf1eda810",
   "metadata": {},
   "outputs": [
    {
     "name": "stdout",
     "output_type": "stream",
     "text": [
      "['banana', 'cherry', 'kiwi', 'mango']\n"
     ]
    }
   ],
   "source": [
    "print(newlist1)"
   ]
  },
  {
   "cell_type": "code",
   "execution_count": 14,
   "id": "ab45cb4b-71a0-4f15-83b5-6bd8d9c4721f",
   "metadata": {},
   "outputs": [
    {
     "name": "stdout",
     "output_type": "stream",
     "text": [
      "['apple', 'banana', 'banana', 'banana', 'mango']\n"
     ]
    }
   ],
   "source": [
    "newlist1 = [x for x in fruits for y in x if y ==\"a\"]\n",
    "print(newlist1)"
   ]
  },
  {
   "cell_type": "code",
   "execution_count": 18,
   "id": "1ffa2e2a-a13c-4ffe-a819-a51e599ecd2f",
   "metadata": {},
   "outputs": [],
   "source": [
    "newlist22 = [x for x in fruits]"
   ]
  },
  {
   "cell_type": "code",
   "execution_count": 19,
   "id": "5c6646c9-2059-420d-8401-ae09df529639",
   "metadata": {},
   "outputs": [
    {
     "name": "stdout",
     "output_type": "stream",
     "text": [
      "['apple', 'banana', 'cherry', 'kiwi', 'mango']\n"
     ]
    }
   ],
   "source": [
    "print(newlist22)"
   ]
  },
  {
   "cell_type": "code",
   "execution_count": 21,
   "id": "1812ad2f-d657-4163-9971-cf6808a59060",
   "metadata": {},
   "outputs": [
    {
     "name": "stdout",
     "output_type": "stream",
     "text": [
      "[0, 1, 2, 3]\n"
     ]
    }
   ],
   "source": [
    "newlist5 = [x for x in range(10) if x <4]\n",
    "print(newlist5)"
   ]
  },
  {
   "cell_type": "code",
   "execution_count": 24,
   "id": "0b0149ad-b138-4a61-8874-092b9f0bdc06",
   "metadata": {},
   "outputs": [
    {
     "ename": "SyntaxError",
     "evalue": "expected 'else' after 'if' expression (2328480328.py, line 1)",
     "output_type": "error",
     "traceback": [
      "\u001b[0;36m  Cell \u001b[0;32mIn[24], line 1\u001b[0;36m\u001b[0m\n\u001b[0;31m    newlist6 = [x if x !=\"banana\" for x in fruits]\u001b[0m\n\u001b[0m                ^\u001b[0m\n\u001b[0;31mSyntaxError\u001b[0m\u001b[0;31m:\u001b[0m expected 'else' after 'if' expression\n"
     ]
    }
   ],
   "source": [
    "newlist6 = [x if x !=\"banana\" for x in fruits]\n",
    "print(newlist6)"
   ]
  },
  {
   "cell_type": "code",
   "execution_count": 26,
   "id": "bd8f98d3-f367-4aad-99e2-b1469fca5f98",
   "metadata": {},
   "outputs": [
    {
     "name": "stdout",
     "output_type": "stream",
     "text": [
      "['apple', 'a', 'cherry', 'kiwi', 'mango']\n"
     ]
    }
   ],
   "source": [
    "newlist6 = [x if x !=\"banana\" else \"a\" for x in fruits]\n",
    "print(newlist6)"
   ]
  },
  {
   "cell_type": "markdown",
   "id": "7e27e1c4-a244-486a-836b-6bb61573d0a1",
   "metadata": {},
   "source": [
    "### look here else is substitute where x act as print a "
   ]
  },
  {
   "cell_type": "code",
   "execution_count": 29,
   "id": "4e7941e5-a1e9-4b99-a82b-79199903bfe1",
   "metadata": {},
   "outputs": [],
   "source": [
    "newlist7 = [(x,y) for x in range(2) for y in range(4)]"
   ]
  },
  {
   "cell_type": "code",
   "execution_count": 30,
   "id": "03f36ff8-dae1-4473-a985-94445e655f3d",
   "metadata": {},
   "outputs": [
    {
     "name": "stdout",
     "output_type": "stream",
     "text": [
      "[(0, 0), (0, 1), (0, 2), (0, 3), (1, 0), (1, 1), (1, 2), (1, 3)]\n"
     ]
    }
   ],
   "source": [
    "print(newlist7)"
   ]
  },
  {
   "cell_type": "code",
   "execution_count": null,
   "id": "9421de0c-f9ec-448b-bea2-cd968216068a",
   "metadata": {},
   "outputs": [],
   "source": []
  }
 ],
 "metadata": {
  "kernelspec": {
   "display_name": "Python 3 (ipykernel)",
   "language": "python",
   "name": "python3"
  },
  "language_info": {
   "codemirror_mode": {
    "name": "ipython",
    "version": 3
   },
   "file_extension": ".py",
   "mimetype": "text/x-python",
   "name": "python",
   "nbconvert_exporter": "python",
   "pygments_lexer": "ipython3",
   "version": "3.10.12"
  }
 },
 "nbformat": 4,
 "nbformat_minor": 5
}
