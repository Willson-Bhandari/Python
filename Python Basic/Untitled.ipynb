{
 "cells": [
  {
   "cell_type": "code",
   "execution_count": 1,
   "id": "4e845cf8-bfc9-4026-94b9-8bebc24a09fc",
   "metadata": {},
   "outputs": [],
   "source": [
    "with open(\"/home/slliw/Scrapy/data/abc.txt\", \"w\") as f:\n",
    "    f.write(\"abcdef\")"
   ]
  },
  {
   "cell_type": "code",
   "execution_count": null,
   "id": "c7cc8842-d79a-4c86-9d2f-26cee5fc5fa1",
   "metadata": {},
   "outputs": [],
   "source": []
  }
 ],
 "metadata": {
  "kernelspec": {
   "display_name": "Python 3 (ipykernel)",
   "language": "python",
   "name": "python3"
  },
  "language_info": {
   "codemirror_mode": {
    "name": "ipython",
    "version": 3
   },
   "file_extension": ".py",
   "mimetype": "text/x-python",
   "name": "python",
   "nbconvert_exporter": "python",
   "pygments_lexer": "ipython3",
   "version": "3.10.12"
  }
 },
 "nbformat": 4,
 "nbformat_minor": 5
}
