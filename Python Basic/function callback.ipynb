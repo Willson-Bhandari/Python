{
 "cells": [
  {
   "cell_type": "markdown",
   "id": "19772f64-c726-4f9c-b912-52c4423a278c",
   "metadata": {},
   "source": [
    "## function call back \n"
   ]
  },
  {
   "cell_type": "code",
   "execution_count": 6,
   "id": "b2ccaff8-661a-4dea-8c84-15a68fa1fa0f",
   "metadata": {},
   "outputs": [
    {
     "name": "stdout",
     "output_type": "stream",
     "text": [
      " square of x and then cube is  15625\n"
     ]
    }
   ],
   "source": [
    "def sqr(x, callback):\n",
    "    y = x**2\n",
    "    callback(y)\n",
    "\n",
    "def cube(y):\n",
    "    c = y**3\n",
    "    print(\" square of x and then cube is \", c)\n",
    "sqr(5, cube)"
   ]
  },
  {
   "cell_type": "code",
   "execution_count": 7,
   "id": "50d05721-bfa4-4323-93ca-f4a660f578be",
   "metadata": {},
   "outputs": [
    {
     "data": {
      "text/plain": [
       "15625"
      ]
     },
     "execution_count": 7,
     "metadata": {},
     "output_type": "execute_result"
    }
   ],
   "source": [
    "25*25*25\n"
   ]
  },
  {
   "cell_type": "code",
   "execution_count": null,
   "id": "d3fbd448-2da1-4660-9c0a-c7ba74f3d862",
   "metadata": {},
   "outputs": [],
   "source": []
  }
 ],
 "metadata": {
  "kernelspec": {
   "display_name": "Python 3 (ipykernel)",
   "language": "python",
   "name": "python3"
  },
  "language_info": {
   "codemirror_mode": {
    "name": "ipython",
    "version": 3
   },
   "file_extension": ".py",
   "mimetype": "text/x-python",
   "name": "python",
   "nbconvert_exporter": "python",
   "pygments_lexer": "ipython3",
   "version": "3.10.12"
  }
 },
 "nbformat": 4,
 "nbformat_minor": 5
}
