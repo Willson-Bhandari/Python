{
 "cells": [
  {
   "cell_type": "code",
   "execution_count": 1,
   "id": "a2b41165-babf-4c69-88fc-0e53e5e8c59d",
   "metadata": {},
   "outputs": [],
   "source": [
    "import logging\n",
    "logging.basicConfig(filename =\"th2.log\", level = logging.INFO)\n",
    "logging.info(\"thi is error\")"
   ]
  },
  {
   "cell_type": "code",
   "execution_count": 2,
   "id": "195cc51e-4354-4556-8cd9-415380149374",
   "metadata": {},
   "outputs": [],
   "source": [
    "logging.shutdown()"
   ]
  },
  {
   "cell_type": "code",
   "execution_count": 14,
   "id": "8fc3b960-6100-4737-ad3f-746b13a74b2e",
   "metadata": {},
   "outputs": [],
   "source": [
    "import logging\n",
    "logging.basicConfig(filename = \"thi4.log\", level = logging.DEBUG, format = '%(asctime)s %(levelname)s %(message)s')"
   ]
  },
  {
   "cell_type": "code",
   "execution_count": 15,
   "id": "fa766cc7-a75d-4cdd-be4e-fca93694bac7",
   "metadata": {},
   "outputs": [],
   "source": [
    "logging.info(\"thi is info to me:\")"
   ]
  },
  {
   "cell_type": "code",
   "execution_count": 16,
   "id": "b05cbd63-4a9e-4dd3-b378-04f78a0aa3af",
   "metadata": {},
   "outputs": [],
   "source": [
    "logging.warning(\"this is warning\")"
   ]
  },
  {
   "cell_type": "code",
   "execution_count": null,
   "id": "d2d3f851-93c3-47d4-ad18-2f1b238965c2",
   "metadata": {},
   "outputs": [],
   "source": [
    "\n"
   ]
  },
  {
   "cell_type": "markdown",
   "id": "ab25f9c2-46cb-4aa5-b666-9cb034ccd1dc",
   "metadata": {},
   "source": [
    "## use of logging here it is "
   ]
  },
  {
   "cell_type": "code",
   "execution_count": 17,
   "id": "e76e98ec-5453-4c72-acf6-68f75c0fc4c4",
   "metadata": {},
   "outputs": [
    {
     "name": "stdout",
     "output_type": "stream",
     "text": [
      "[1, 2, 3, 4, 5, 2343, 23423, 23, 423]\n",
      "['willson', 'bhandari', 'tree']\n"
     ]
    }
   ],
   "source": [
    "l = [1,2,3,4,5,[2343,23423,23,423], \"willson\", \"bhandari\", \"tree\"]\n",
    "l1 = []\n",
    "l2 = []\n",
    "for i in l:\n",
    "    logging.info(\"this is start of i\")\n",
    "    if type(i) == list:\n",
    "        for j in i:\n",
    "            logging.info(\"this is start of j\")\n",
    "            l1.append(j)\n",
    "    elif type(i) == int:\n",
    "        logging.info(\"this is appending here\")\n",
    "        l1.append(i) \n",
    "    else:\n",
    "        l2.append(i)\n",
    "print(l1)\n",
    "print(l2)"
   ]
  },
  {
   "cell_type": "code",
   "execution_count": null,
   "id": "51939ac5-ed1b-4432-8895-5cdb2114a405",
   "metadata": {},
   "outputs": [],
   "source": []
  },
  {
   "cell_type": "code",
   "execution_count": null,
   "id": "00d4a59a-2ca9-486a-b4af-288b6bafb05a",
   "metadata": {},
   "outputs": [],
   "source": []
  },
  {
   "cell_type": "code",
   "execution_count": null,
   "id": "79707e2f-658e-4002-bd2e-b78391aedeab",
   "metadata": {},
   "outputs": [],
   "source": []
  }
 ],
 "metadata": {
  "kernelspec": {
   "display_name": "Python 3 (ipykernel)",
   "language": "python",
   "name": "python3"
  },
  "language_info": {
   "codemirror_mode": {
    "name": "ipython",
    "version": 3
   },
   "file_extension": ".py",
   "mimetype": "text/x-python",
   "name": "python",
   "nbconvert_exporter": "python",
   "pygments_lexer": "ipython3",
   "version": "3.10.12"
  }
 },
 "nbformat": 4,
 "nbformat_minor": 5
}
