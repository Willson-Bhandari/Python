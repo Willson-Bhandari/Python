{
 "cells": [
  {
   "cell_type": "markdown",
   "id": "4f7e67fe-ebd6-42f6-aad2-84c23b64b2f7",
   "metadata": {},
   "source": [
    "# yield\n"
   ]
  },
  {
   "cell_type": "code",
   "execution_count": 1,
   "id": "58ffa6d3-917f-4997-98b9-b1a19e3f24b7",
   "metadata": {},
   "outputs": [
    {
     "name": "stdout",
     "output_type": "stream",
     "text": [
      "1\n",
      "2\n",
      "3\n"
     ]
    }
   ],
   "source": [
    "def simple_generator():\n",
    "    yield 1\n",
    "    yield 2 \n",
    "    yield 3\n",
    "\n",
    "gen = simple_generator()\n",
    "\n",
    "print(next(gen))\n",
    "print(next(gen))\n",
    "print(next(gen))\n"
   ]
  },
  {
   "cell_type": "code",
   "execution_count": 3,
   "id": "5b5834fb-7dca-47c0-afd9-40007fa59353",
   "metadata": {},
   "outputs": [
    {
     "name": "stdout",
     "output_type": "stream",
     "text": [
      "1\n",
      "2\n",
      "3\n"
     ]
    }
   ],
   "source": [
    "def infi():\n",
    "    count = 1\n",
    "    while True:\n",
    "        yield count\n",
    "        count +=1 \n",
    "a = infi()\n",
    "print(next(a))\n",
    "print(next(a))\n",
    "print(next(a))\n"
   ]
  },
  {
   "cell_type": "code",
   "execution_count": 4,
   "id": "1a8d0229-42aa-4f18-b20c-e7e8ac5056c0",
   "metadata": {},
   "outputs": [
    {
     "name": "stdout",
     "output_type": "stream",
     "text": [
      "1\n",
      "4\n",
      "9\n",
      "16\n",
      "25\n"
     ]
    }
   ],
   "source": [
    "def sq(nums):\n",
    "    for num in nums:\n",
    "        yield num*num \n",
    "numb = [1,2,3,4,5]\n",
    "for i in sq(numb):\n",
    "    print(i)"
   ]
  },
  {
   "cell_type": "code",
   "execution_count": null,
   "id": "9aff4dfb-8614-4aba-9554-6ef1736e92e7",
   "metadata": {},
   "outputs": [],
   "source": []
  }
 ],
 "metadata": {
  "kernelspec": {
   "display_name": "Python 3 (ipykernel)",
   "language": "python",
   "name": "python3"
  },
  "language_info": {
   "codemirror_mode": {
    "name": "ipython",
    "version": 3
   },
   "file_extension": ".py",
   "mimetype": "text/x-python",
   "name": "python",
   "nbconvert_exporter": "python",
   "pygments_lexer": "ipython3",
   "version": "3.10.12"
  }
 },
 "nbformat": 4,
 "nbformat_minor": 5
}
