{
 "cells": [
  {
   "cell_type": "markdown",
   "id": "83e1dee2-5d1e-407e-97b0-cfe83e15d852",
   "metadata": {},
   "source": [
    "# Basic concept of iteration is known "
   ]
  },
  {
   "cell_type": "markdown",
   "id": "99b9e488-290c-47de-b70a-8c523440e55a",
   "metadata": {},
   "source": [
    "# Create an iterator"
   ]
  },
  {
   "cell_type": "code",
   "execution_count": 8,
   "id": "16c805c7-d054-406e-8a78-79845fac096b",
   "metadata": {},
   "outputs": [
    {
     "name": "stdout",
     "output_type": "stream",
     "text": [
      "1\n",
      "2\n",
      "3\n",
      "4\n"
     ]
    }
   ],
   "source": [
    "class mynumbers:\n",
    "    def __iter__(self):\n",
    "        self.a = 1\n",
    "        return self\n",
    "\n",
    "    def __next__(self):\n",
    "            x = self.a\n",
    "            self.a +=1\n",
    "            return x\n",
    "myclass = mynumbers()\n",
    "myiter = iter(myclass)\n",
    "print(next(myiter))\n",
    "print(next(myiter))\n",
    "print(next(myiter))\n",
    "print(next(myiter))"
   ]
  },
  {
   "cell_type": "code",
   "execution_count": 5,
   "id": "e01c4ae9-f9e6-463d-a33c-2cf600568762",
   "metadata": {},
   "outputs": [],
   "source": [
    "class mynumbers:\n",
    "    def __iter__(self):\n",
    "        self.a = 21\n",
    "        return self\n",
    "\n",
    "    def __next__(self):\n",
    "        if self.a <=20:\n",
    "            x = self.a\n",
    "            self.a +=1\n",
    "            return x\n",
    "        else:\n",
    "            raise StopIteration\n",
    "myclass = mynumbers()\n",
    "myiter = iter(myclass)\n",
    "for i in myiter:\n",
    "    print(i)\n"
   ]
  },
  {
   "cell_type": "markdown",
   "id": "fd064d9c-e622-4f39-ab17-50ea5691135b",
   "metadata": {},
   "source": [
    "Note:\n",
    "calling of __iter__() is from using iter() function \n",
    "and calling of __next__() is from using next() function \n",
    "there is another method of calling __next__() function\n",
    "using \"\" for \"\" loop . when for loop is used it automatically calls __next__() function .\n",
    "python automatically call __iter__ and __next__ () function "
   ]
  },
  {
   "cell_type": "code",
   "execution_count": 10,
   "id": "7a583a31-8aaa-4794-ba0c-7fbb2310a5c2",
   "metadata": {},
   "outputs": [
    {
     "name": "stdout",
     "output_type": "stream",
     "text": [
      "1\n",
      "2\n",
      "3\n",
      "4\n",
      "5\n",
      "6\n",
      "7\n",
      "8\n",
      "9\n",
      "10\n"
     ]
    }
   ],
   "source": [
    "class mycode:\n",
    "    def __iter__(self): #this function doesn't accept anyargunments\n",
    "        self.a = 1\n",
    "        self.b = 10\n",
    "        return self\n",
    "    def __next__(self):\n",
    "        x = self.a\n",
    "        if x <= self.b:\n",
    "          self.a += 1\n",
    "          return x\n",
    "        else: \n",
    "            raise StopIteration\n",
    "myclass = mycode()\n",
    "myiter = iter(myclass)\n",
    "for i in myiter:\n",
    "    print(i)\n",
    "        \n",
    "        "
   ]
  },
  {
   "cell_type": "markdown",
   "id": "dee543e9-dede-4df8-aabc-3bb9153b9fb4",
   "metadata": {},
   "source": [
    "# important concept of global scope and local scope\n",
    "scope is nothing other than a variable\n",
    "## making global scope from local scope\n",
    "# changing global scope value inside the local scope\n"
   ]
  },
  {
   "cell_type": "code",
   "execution_count": 22,
   "id": "f5ee730e-cd5e-40ce-916c-0f0c25b2c199",
   "metadata": {},
   "outputs": [
    {
     "name": "stdout",
     "output_type": "stream",
     "text": [
      "52\n"
     ]
    }
   ],
   "source": [
    "# local to global\n",
    "def myfunction():\n",
    "    global fx\n",
    "    fx = 20+30\n",
    "    return x\n",
    "myfunction()\n",
    "y = fx +2 #here is the example of making local scope to global scope\n",
    "print(y)"
   ]
  },
  {
   "cell_type": "code",
   "execution_count": 25,
   "id": "17b2b700-867a-4abf-905a-685f53a1872d",
   "metadata": {},
   "outputs": [
    {
     "name": "stdout",
     "output_type": "stream",
     "text": [
      "the value of xxf from the function is  20\n"
     ]
    }
   ],
   "source": [
    "# change value of global scope inside local scope as you want\n",
    "xxf = 0\n",
    "def myfun1():\n",
    "    global xxf\n",
    "    xxf = 20\n",
    "    y = xxf +20\n",
    "    return y\n",
    "myfun1()\n",
    "print(\"the value of xxf from the function is \", xxf)"
   ]
  },
  {
   "cell_type": "markdown",
   "id": "a5275fce-e486-4d85-9888-ae329fd93f76",
   "metadata": {},
   "source": [
    "here from the function it override the value of xxf = 0 to 20\n",
    "also to globalize variable we always should call a function other wise it gives NameError"
   ]
  },
  {
   "cell_type": "code",
   "execution_count": null,
   "id": "5e1aba39-dfb6-4459-ade8-b6254c10a143",
   "metadata": {},
   "outputs": [],
   "source": []
  }
 ],
 "metadata": {
  "kernelspec": {
   "display_name": "Python 3 (ipykernel)",
   "language": "python",
   "name": "python3"
  },
  "language_info": {
   "codemirror_mode": {
    "name": "ipython",
    "version": 3
   },
   "file_extension": ".py",
   "mimetype": "text/x-python",
   "name": "python",
   "nbconvert_exporter": "python",
   "pygments_lexer": "ipython3",
   "version": "3.10.12"
  }
 },
 "nbformat": 4,
 "nbformat_minor": 5
}
