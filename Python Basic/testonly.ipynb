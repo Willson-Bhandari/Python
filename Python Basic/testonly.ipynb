{
 "cells": [
  {
   "cell_type": "code",
   "execution_count": 7,
   "id": "70bd6942-7339-4e01-8166-1993ec587477",
   "metadata": {},
   "outputs": [
    {
     "name": "stdout",
     "output_type": "stream",
     "text": [
      "WillsonBhandari 23\n"
     ]
    }
   ],
   "source": [
    "class test1:\n",
    "    def __init__(self, name, age, location):\n",
    "        self.name = name\n",
    "        self.age = age\n",
    "\n",
    "    def printname(self):\n",
    "        print(self.name, self.age)\n",
    "\n",
    "class child1(test1):\n",
    "        def __init(self, age, name,location):\n",
    "            test1.__init__(self, name, age,location)\n",
    "\n",
    "# argunment should match . both child and parent\n",
    "x = child1(\"WillsonBhandari\", 23, \"thamel\")\n",
    "x.printname()\n",
    "            "
   ]
  },
  {
   "cell_type": "code",
   "execution_count": 8,
   "id": "46c06c6b-ee32-4ee2-978c-8c01743561ee",
   "metadata": {},
   "outputs": [
    {
     "name": "stdout",
     "output_type": "stream",
     "text": [
      "ram 32\n"
     ]
    }
   ],
   "source": [
    "x2 = child1(\"ram\", 32, \"gal\")\n",
    "x2.printname()"
   ]
  },
  {
   "cell_type": "code",
   "execution_count": 9,
   "id": "d55e6bfe-7c33-4ba6-98cf-5a0f56a71294",
   "metadata": {},
   "outputs": [
    {
     "name": "stdout",
     "output_type": "stream",
     "text": [
      "gal ram\n"
     ]
    }
   ],
   "source": [
    "x3 = child1(\"gal\", \"ram\", 2)\n",
    "x3.printname()"
   ]
  },
  {
   "cell_type": "code",
   "execution_count": 10,
   "id": "2af6eb60-e799-4eb7-a3d4-3ad3e80db1de",
   "metadata": {},
   "outputs": [
    {
     "name": "stdout",
     "output_type": "stream",
     "text": [
      "2 wo\n"
     ]
    }
   ],
   "source": [
    "x4 = child1(2, \"wo\", \"lainchour\")\n",
    "x4.printname()"
   ]
  },
  {
   "cell_type": "code",
   "execution_count": null,
   "id": "82f8d3e3-9f2e-4150-88cd-90b779c5de91",
   "metadata": {},
   "outputs": [],
   "source": []
  }
 ],
 "metadata": {
  "kernelspec": {
   "display_name": "Python 3 (ipykernel)",
   "language": "python",
   "name": "python3"
  },
  "language_info": {
   "codemirror_mode": {
    "name": "ipython",
    "version": 3
   },
   "file_extension": ".py",
   "mimetype": "text/x-python",
   "name": "python",
   "nbconvert_exporter": "python",
   "pygments_lexer": "ipython3",
   "version": "3.10.12"
  }
 },
 "nbformat": 4,
 "nbformat_minor": 5
}
