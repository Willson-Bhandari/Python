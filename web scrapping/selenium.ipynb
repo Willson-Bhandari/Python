{
 "cells": [
  {
   "cell_type": "code",
   "execution_count": 2,
   "id": "04a928e2-7ea3-4a8a-9f44-7bc7a3ba67b5",
   "metadata": {},
   "outputs": [],
   "source": [
    "from selenium import webdriver"
   ]
  },
  {
   "cell_type": "code",
   "execution_count": 4,
   "id": "ea91cf2c-c4ee-4a48-9d59-eefe71e488c2",
   "metadata": {},
   "outputs": [],
   "source": [
    "driver =webdriver.Chrome()"
   ]
  },
  {
   "cell_type": "code",
   "execution_count": null,
   "id": "257a6270-7598-42d6-a79f-b80fa3fe6eaa",
   "metadata": {},
   "outputs": [],
   "source": []
  }
 ],
 "metadata": {
  "kernelspec": {
   "display_name": "Python 3 (ipykernel)",
   "language": "python",
   "name": "python3"
  },
  "language_info": {
   "codemirror_mode": {
    "name": "ipython",
    "version": 3
   },
   "file_extension": ".py",
   "mimetype": "text/x-python",
   "name": "python",
   "nbconvert_exporter": "python",
   "pygments_lexer": "ipython3",
   "version": "3.10.12"
  }
 },
 "nbformat": 4,
 "nbformat_minor": 5
}
