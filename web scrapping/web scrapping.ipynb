{
 "cells": [
  {
   "cell_type": "markdown",
   "id": "3d943337-aec2-49ac-85f5-4d93891b5908",
   "metadata": {},
   "source": [
    "## introduction to web scrapping"
   ]
  },
  {
   "cell_type": "code",
   "execution_count": 66,
   "id": "d8d58c26-2e54-4539-9fa2-52e5fdb90e18",
   "metadata": {},
   "outputs": [],
   "source": [
    "import requests\n",
    "from bs4 import BeautifulSoup as bs\n"
   ]
  },
  {
   "cell_type": "code",
   "execution_count": 13,
   "id": "1cb339f2-4848-4bad-a640-0ce7b0e94757",
   "metadata": {},
   "outputs": [],
   "source": [
    "r = requests.get(\"https://merolagani.com\").text\n",
    "soup = bs(r, \"html5lib\")\n",
    "found = soup.find(\"div\", class_ =\"col-lg-12 recent-news\")\n",
    "news = found.find(\"tbody\")\n",
    "news_titile = news.find_all(\"a\")\n",
    "filename = \"merolagani.text\"\n",
    "with open(filename, \"a\") as f:\n",
    "   for i in news_titile:\n",
    "       f.write(str(i)+\"\\n\\n\")\n",
    "\n",
    "    \n",
    "    \n"
   ]
  },
  {
   "cell_type": "markdown",
   "id": "9c8a36c1-2fa6-4b1e-b1a8-70eb577ad33d",
   "metadata": {},
   "source": [
    "## another project for web scrapping"
   ]
  },
  {
   "cell_type": "code",
   "execution_count": 82,
   "id": "b0cca3ac-8425-4587-83ac-fc462b5d6c1c",
   "metadata": {},
   "outputs": [
    {
     "name": "stdout",
     "output_type": "stream",
     "text": [
      "True\n",
      "None\n",
      "None\n",
      "None\n",
      "None\n",
      "None\n",
      "None\n",
      "None\n",
      "None\n",
      "None\n",
      "None\n",
      "None\n",
      "None\n",
      "None\n",
      "None\n",
      "None\n",
      "None\n",
      "None\n",
      "None\n",
      "None\n",
      "None\n",
      "None\n",
      "None\n",
      "None\n",
      "None\n",
      "None\n",
      "None\n",
      "None\n",
      "None\n",
      "None\n",
      "None\n",
      "None\n",
      "None\n",
      "None\n",
      "None\n",
      "None\n",
      "None\n",
      "None\n",
      "None\n",
      "None\n",
      "None\n",
      "None\n",
      "None\n",
      "None\n",
      "None\n",
      "None\n",
      "None\n"
     ]
    }
   ],
   "source": [
    "r2 = requests.get(\"https://merojob.com\")\n",
    "print(r2.ok)\n",
    "with open(\"merojob.text\", \"w+\") as f:\n",
    "    f.write(r2.text)\n",
    "    f.seek(0)\n",
    "    html = f.read()\n",
    "    soup = bs(html, \"html.parser\")\n",
    "    rows = soup.find_all(\"div\",class_=\"row no-gutters hj-row\")\n",
    "    for i in rows:\n",
    "        post_name = i.find_all(\"div\", class_ = \"media-body\")\n",
    "        for j in post_name:\n",
    "            nametag = j.find_all(\"a\", class_ = \"h6 mb-1\")\n",
    "            for k in nametag:\n",
    "                names = k.text\n",
    "                with open(\"companyname.text\", \"a\") as f:\n",
    "                    f.write(names)\n",
    "                link = k.find(\"a\", \"href\")\n",
    "                print(links)\n",
    "                    \n",
    "            \n",
    "            \n",
    "            \n",
    "            \n"
   ]
  },
  {
   "cell_type": "code",
   "execution_count": null,
   "id": "3172f241-b3f3-4ce6-a074-f781681f2c07",
   "metadata": {},
   "outputs": [],
   "source": []
  },
  {
   "cell_type": "code",
   "execution_count": null,
   "id": "65a71d9b-1853-494a-bfea-e4f31c5ed6fa",
   "metadata": {},
   "outputs": [],
   "source": []
  }
 ],
 "metadata": {
  "kernelspec": {
   "display_name": "Python 3 (ipykernel)",
   "language": "python",
   "name": "python3"
  },
  "language_info": {
   "codemirror_mode": {
    "name": "ipython",
    "version": 3
   },
   "file_extension": ".py",
   "mimetype": "text/x-python",
   "name": "python",
   "nbconvert_exporter": "python",
   "pygments_lexer": "ipython3",
   "version": "3.10.12"
  }
 },
 "nbformat": 4,
 "nbformat_minor": 5
}
